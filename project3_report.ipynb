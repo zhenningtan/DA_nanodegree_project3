{
 "cells": [
  {
   "cell_type": "markdown",
   "metadata": {},
   "source": [
    "## Map area: San Francisco, California, United States (data downloaded from openstreetmap)\n"
   ]
  },
  {
   "cell_type": "code",
   "execution_count": 1,
   "metadata": {
    "collapsed": true
   },
   "outputs": [],
   "source": [
    "import xml.etree.cElementTree as ET\n",
    "import pprint\n",
    "from collections import defaultdict\n",
    "import re"
   ]
  },
  {
   "cell_type": "code",
   "execution_count": 2,
   "metadata": {
    "collapsed": true
   },
   "outputs": [],
   "source": [
    "sf_data = \"san-francisco_california.osm\"\n",
    "#sf_data = \"sample_sf.osm\""
   ]
  },
  {
   "cell_type": "markdown",
   "metadata": {},
   "source": [
    "## Create a sample data set "
   ]
  },
  {
   "cell_type": "code",
   "execution_count": 20,
   "metadata": {
    "collapsed": true
   },
   "outputs": [],
   "source": [
    "# This code is adapted from the Udacity project instruction\n",
    "#!/usr/bin/env python\n",
    "# -*- coding: utf-8 -*-\n",
    "\n",
    "\n",
    "OSM_FILE = \"san-francisco_california.osm\"  # Replace this with your osm file\n",
    "SAMPLE_FILE = \"sample_sf_1.osm\"\n"
   ]
  },
  {
   "cell_type": "markdown",
   "metadata": {},
   "source": [
    "### Define a get_element function to create a generator over the elements in the data file"
   ]
  },
  {
   "cell_type": "code",
   "execution_count": 21,
   "metadata": {
    "collapsed": true
   },
   "outputs": [],
   "source": [
    "def get_element(osm_file, tags=('node', 'way', 'relation')):\n",
    "    \"\"\"Yield element if it is the right type of tag\n",
    "    Reference:\n",
    "    http://stackoverflow.com/questions/231767/what-does-the-yield-keyword-do-in-python\n",
    "    http://stackoverflow.com/questions/3095434/inserting-newlines-in-xml-file-generated-via-xml-etree-elementtree-in-python\n",
    "    \"\"\"\n",
    "    \n",
    "    context = ET.iterparse(osm_file, events=('start', 'end'))\n",
    "    _, root = next(context)\n",
    "    for event, elem in context:\n",
    "        if event == 'end' and elem.tag in tags:\n",
    "            yield elem\n",
    "            root.clear()"
   ]
  },
  {
   "cell_type": "code",
   "execution_count": 22,
   "metadata": {
    "collapsed": false
   },
   "outputs": [],
   "source": [
    "with open(SAMPLE_FILE, 'wb') as output:\n",
    "    output.write('<?xml version=\"1.0\" encoding=\"UTF-8\"?>\\n')\n",
    "    output.write('<osm>\\n  ')\n",
    "\n",
    "    # Write every 10th top level element\n",
    "    for i, element in enumerate(get_element(OSM_FILE)):\n",
    "        if i % 10 == 0:\n",
    "            output.write(ET.tostring(element, encoding='utf-8'))\n",
    "\n",
    "    output.write('</osm>')"
   ]
  },
  {
   "cell_type": "markdown",
   "metadata": {},
   "source": [
    "## Overview of the data structure of osm file"
   ]
  },
  {
   "cell_type": "code",
   "execution_count": 23,
   "metadata": {
    "collapsed": false
   },
   "outputs": [],
   "source": [
    "#define a function to look through the tags in the documenet\n",
    "def count_tags(filename):\n",
    "\n",
    "    result = defaultdict(int)\n",
    "    for elem in get_element(sf_data):\n",
    "        result[elem.tag] +=1\n",
    "        elem.clear()\n",
    "    return result\n"
   ]
  },
  {
   "cell_type": "code",
   "execution_count": 25,
   "metadata": {
    "collapsed": false
   },
   "outputs": [
    {
     "data": {
      "text/plain": [
       "defaultdict(int, {'node': 4466973, 'relation': 4424, 'way': 504247})"
      ]
     },
     "execution_count": 25,
     "metadata": {},
     "output_type": "execute_result"
    }
   ],
   "source": [
    "count_tags('san-francisco_california.osm')"
   ]
  },
  {
   "cell_type": "markdown",
   "metadata": {},
   "source": [
    "# 1 Problems encounted in the map"
   ]
  },
  {
   "cell_type": "markdown",
   "metadata": {},
   "source": [
    "## 1.1 Explore tags on a sample set to identify basic format for tags"
   ]
  },
  {
   "cell_type": "code",
   "execution_count": 86,
   "metadata": {
    "collapsed": false
   },
   "outputs": [],
   "source": [
    "#explore a subset of uniques tags in the data file\n",
    "unqiue_tags = set()\n",
    "\n",
    "for i, elem in enumerate(get_element(\"sample_sf.osm\", tags = (\"tag\",))):\n",
    "    if i% 2000==0:\n",
    "        unique_tags.add(elem.attrib[\"k\"])\n",
    "        \n",
    "    elem.clear()"
   ]
  },
  {
   "cell_type": "code",
   "execution_count": 87,
   "metadata": {
    "collapsed": true
   },
   "outputs": [
    {
     "data": {
      "text/plain": [
       "['tiger:source',\n",
       " 'maxspeed',\n",
       " 'inside_atm',\n",
       " 'name:nds-nl',\n",
       " 'seamark:fog_signal:group',\n",
       " 'destination:forward',\n",
       " 'Asset',\n",
       " 'cooperative',\n",
       " 'smoking',\n",
       " 'paloalto_ca:id',\n",
       " 'name:gag',\n",
       " 'outside_atm_operator',\n",
       " 'Shape_Leng',\n",
       " 'is_in',\n",
       " 'building:height',\n",
       " 'name:bat-smg',\n",
       " 'seamark:type',\n",
       " 'name:hsb',\n",
       " 'name:ast',\n",
       " 'created_by',\n",
       " 'ref:blklot',\n",
       " 'common',\n",
       " 'restriction',\n",
       " 'name:kn',\n",
       " 'name:zu',\n",
       " 'name:za',\n",
       " 'fax',\n",
       " 'tiger:LINEARID',\n",
       " 'attribution',\n",
       " 'name:ms',\n",
       " 'name:uz',\n",
       " 'name:kk',\n",
       " 'AREAID',\n",
       " 'tiger:cfcc',\n",
       " 'redwood_city_ca:addr_id',\n",
       " 'recycling:magazines',\n",
       " 'tiger:county',\n",
       " 'name:ki',\n",
       " 'name:uk',\n",
       " 'motor_vehicle',\n",
       " 'name:ug',\n",
       " 'ticker',\n",
       " 'name:rw',\n",
       " 'addr:street',\n",
       " 'source:name',\n",
       " 'name:mr',\n",
       " 'level',\n",
       " 'parking:condition:right:2',\n",
       " 'seamark:radar_transponder:wavelength',\n",
       " 'subway',\n",
       " 'is_in:continent',\n",
       " 'depository',\n",
       " 'name:ks',\n",
       " 'sidewalk',\n",
       " 'disused',\n",
       " 'recycling:paper',\n",
       " 'nps:trail',\n",
       " 'turn:lanes:forward',\n",
       " 'name:ia',\n",
       " 'name:lez',\n",
       " 'gnis:state_id',\n",
       " 'bicycle',\n",
       " 'gnis:county_name',\n",
       " 'fence',\n",
       " 'FIXME:access',\n",
       " 'name:ik',\n",
       " 'bicycle:lanes:backward',\n",
       " 'name:io',\n",
       " 'name:is',\n",
       " 'street',\n",
       " 'area:highway',\n",
       " 'tiger:NAME',\n",
       " 'service:press',\n",
       " 'MTFCC',\n",
       " 'seamark:beacon_special_purpose:shape',\n",
       " '99addr:city',\n",
       " 'exit_to',\n",
       " 'name:ckb',\n",
       " 'name:si',\n",
       " 'name:lbe',\n",
       " 'seamark:light:group',\n",
       " 'access',\n",
       " 'name:sg',\n",
       " 'name:nrm',\n",
       " 'day_off',\n",
       " 'seamark:fog_signal:generation',\n",
       " 'toll',\n",
       " 'source:website',\n",
       " 'guidepost',\n",
       " 'name:ga',\n",
       " 'name:sd',\n",
       " 'redwood_city_ca:bld_gid',\n",
       " 'name:sc',\n",
       " 'access:conditional',\n",
       " 'name:pnb',\n",
       " 'seamark:buoy_special_purpose:colour',\n",
       " 'name:br',\n",
       " 'name:bs',\n",
       " 'water',\n",
       " 'census:population',\n",
       " 'name:bn',\n",
       " 'name:bo',\n",
       " 'name:bi',\n",
       " 'address',\n",
       " 'sanitary_dump_station:pump-out',\n",
       " 'name:bg',\n",
       " 'hoops',\n",
       " 'name:ba',\n",
       " 'name:frr',\n",
       " 'microbrewery',\n",
       " 'name:kbd',\n",
       " 'name:frp',\n",
       " 'name:bcl',\n",
       " 'name:yo',\n",
       " 'name:pam',\n",
       " 'military',\n",
       " 'outerspatial:id',\n",
       " 'service:bicycle:retail',\n",
       " 'name:crh',\n",
       " 'name:sa',\n",
       " 'name:pt',\n",
       " 'gnis:County_num',\n",
       " 'handrail',\n",
       " 'name:ps',\n",
       " 'hiking',\n",
       " 'parking:condition:left:2:reason',\n",
       " 'lastcheck:status',\n",
       " 'surveillance:type',\n",
       " 'survey:date',\n",
       " 'turn:lanes',\n",
       " 'layer',\n",
       " 'private',\n",
       " 'name:sw',\n",
       " 'Yr_Planted',\n",
       " 'addr:state',\n",
       " 'nist:fips_code',\n",
       " 'name:pa',\n",
       " 'nist:state_fips',\n",
       " 'name:pl',\n",
       " 'name:su',\n",
       " 'STATEFP',\n",
       " 'name:fiu-vro',\n",
       " 'fee',\n",
       " 'hgv:state_network',\n",
       " 'verified:name',\n",
       " 'to',\n",
       " 'tiger:name_type_3',\n",
       " 'tiger:name_type_2',\n",
       " 'tiger:name_type_1',\n",
       " 'destination',\n",
       " 'wetap:temperature',\n",
       " 'disused:highway',\n",
       " 'name:cdo',\n",
       " 'start_date',\n",
       " 'seamark:topmark:colour',\n",
       " 'parking:condition:right:2:time_interval',\n",
       " 'name:tet',\n",
       " 'type',\n",
       " 'recycling:clothes',\n",
       " 'seamark:light:colour',\n",
       " 'name:rue',\n",
       " 'entrance',\n",
       " 'name:sco',\n",
       " 'name:scn',\n",
       " 'seamark:buoy_safe_water:colour',\n",
       " 'boundary:type',\n",
       " 'kiosk',\n",
       " 'name:vep',\n",
       " 'site',\n",
       " 'phone',\n",
       " 'flag',\n",
       " 'train',\n",
       " 'scvwd:OBJECTID',\n",
       " 'name:vec',\n",
       " 'women',\n",
       " 'traffic_calming',\n",
       " 'ship:type',\n",
       " 'tunnel',\n",
       " 'drink:beer',\n",
       " 'longitude',\n",
       " 'name:bxr',\n",
       " 'noref',\n",
       " 'theatre:genre',\n",
       " 'name:min',\n",
       " 'name:be-tarask',\n",
       " 'name:ace',\n",
       " 'male',\n",
       " 'history',\n",
       " 'control',\n",
       " 'name:mt',\n",
       " 'num_row',\n",
       " 'note:highway',\n",
       " 'recycling:green_waste',\n",
       " 'name:my',\n",
       " 'taxiway',\n",
       " 'species:en',\n",
       " 'name:lad',\n",
       " 'name:mg',\n",
       " 'rwc_ca:buildingid',\n",
       " 'name:ml',\n",
       " 'source:hgv:national_network',\n",
       " 'name:mn',\n",
       " 'disused:opening_hours',\n",
       " 'species',\n",
       " 'name:mk',\n",
       " 'place_name',\n",
       " 'noaa:taghash',\n",
       " 'name:ff',\n",
       " 'name:simple',\n",
       " 'name:fi',\n",
       " 'owner',\n",
       " 'nps:type',\n",
       " 'hov',\n",
       " 'name:fr',\n",
       " 'seamark:buoy_special_purpose:shape',\n",
       " 'NHS',\n",
       " 'mrosd:preserve',\n",
       " 'exit_to:left',\n",
       " 'ISO3166-1',\n",
       " 'seamark:beacon_lateral:shape',\n",
       " 'OBJNAME',\n",
       " 'FIXME',\n",
       " 'description',\n",
       " 'information',\n",
       " 'parking:condition:both:time_interval',\n",
       " 'name:als',\n",
       " 'recycling:corks',\n",
       " 'bridge:support',\n",
       " 'name:ceb',\n",
       " 'name:ur',\n",
       " 'parking:restricted',\n",
       " 'name:id',\n",
       " 'wetap:status',\n",
       " 'natural',\n",
       " 'lcn_ref',\n",
       " 'emergency:note',\n",
       " 'cost:coffee',\n",
       " 'light',\n",
       " 'wheelchair',\n",
       " 'outdoor_seating',\n",
       " 'destination:street',\n",
       " 'tiger:RTTYP',\n",
       " 'payment:diners_club',\n",
       " 'nextbus:stopid',\n",
       " 'healthcare',\n",
       " 'AREA_M2',\n",
       " 'source:hgv:state_network',\n",
       " 'Tag_Num',\n",
       " 'access:foot',\n",
       " 'name:bpy',\n",
       " 'pipe_type',\n",
       " 'name:ty',\n",
       " 'office',\n",
       " 'building:part',\n",
       " 'name:ts',\n",
       " 'name:zh-yue',\n",
       " 'name:tw',\n",
       " 'name:tt',\n",
       " 'trade',\n",
       " 'payment:cash',\n",
       " 'name:th',\n",
       " 'frequency',\n",
       " 'motorcycle',\n",
       " 'name:tl',\n",
       " 'surveillance',\n",
       " 'exit_to:right',\n",
       " 'seamark:buoy_special_purpose:colour_pattern',\n",
       " 'name:te',\n",
       " 'addr:housenumber',\n",
       " 'Direction',\n",
       " 'name:kv',\n",
       " 'fireplace',\n",
       " 'aed:opening_hours',\n",
       " 'acres',\n",
       " 'attraction',\n",
       " 'drive_in',\n",
       " 'ISO3166-1:alpha2',\n",
       " 'tiger:name_type',\n",
       " 'csp:unitcode',\n",
       " 'sac_scale',\n",
       " 'latitude',\n",
       " 'covered',\n",
       " 'name:be',\n",
       " 'hist_name',\n",
       " 'contact:website',\n",
       " 'stateofrepair',\n",
       " 'junction',\n",
       " 'outside_atm_capacity',\n",
       " 'food',\n",
       " 'material',\n",
       " 'ship',\n",
       " 'name:en',\n",
       " 'recycling:newspaper',\n",
       " 'name:fy',\n",
       " 'foot',\n",
       " 'map_type',\n",
       " 'recycling:electrical_appliances',\n",
       " 'tourism',\n",
       " 'smoothness',\n",
       " 'gnis:edited',\n",
       " 'payment:bitcoin',\n",
       " 'fixme',\n",
       " 'odbl',\n",
       " 'operator:type',\n",
       " 'addr:city',\n",
       " 'designation',\n",
       " 'seamark:light:sequence',\n",
       " 'tiger:zip_left',\n",
       " 'artist',\n",
       " 'canoe',\n",
       " 'name:gan',\n",
       " 'crossing',\n",
       " 'aed:description',\n",
       " 'seamark:landmark:category',\n",
       " 'parking:condition:both:maxstay',\n",
       " 'name_2',\n",
       " 'name_1',\n",
       " 'seamark:harbour:category',\n",
       " 'recycling:plastic_bottles',\n",
       " 'house',\n",
       " 'name:as',\n",
       " 'name:ar',\n",
       " 'name:av',\n",
       " 'AWATER',\n",
       " 'generator:source',\n",
       " 'seamark:radar_transponder:group',\n",
       " 'COUNTYFP',\n",
       " 'name:an',\n",
       " 'name:ab',\n",
       " 'todo',\n",
       " 'name:cbk-zam',\n",
       " 'parking:condition:left:2:time_interval',\n",
       " 'ISO3166-1:numeric',\n",
       " 'vestibule_atm_operator',\n",
       " 'occurrence',\n",
       " 'network',\n",
       " 'ramp_speed',\n",
       " 'name:hr',\n",
       " 'diesel',\n",
       " 'seamark:buoy_special_purpose:category',\n",
       " 'content',\n",
       " 'playground',\n",
       " 'name:sl',\n",
       " 'seamark:light:height',\n",
       " 'check_date',\n",
       " 'ref',\n",
       " 'highway',\n",
       " 'service:bicycle:repair',\n",
       " 'name:so',\n",
       " 'name:sn',\n",
       " 'name:sm',\n",
       " 'source:maxspeed',\n",
       " 'name:sk',\n",
       " 'name:war',\n",
       " 'barrier',\n",
       " 'name:sh',\n",
       " 'import_uuid',\n",
       " 'name:se',\n",
       " 'maxweight',\n",
       " 'tiger:reviewed',\n",
       " 'electrified',\n",
       " 'massgis:cat',\n",
       " 'name:arc',\n",
       " 'name:hif',\n",
       " 'roof:shape',\n",
       " 'name:arz',\n",
       " 'name:et',\n",
       " 'turn:lanes:backward',\n",
       " 'name:sv',\n",
       " 'name:mi',\n",
       " 'name:ss',\n",
       " 'name:sr',\n",
       " 'name:sq',\n",
       " 'protect_class',\n",
       " 'name:vls',\n",
       " 'training',\n",
       " 'noexit',\n",
       " 'organic',\n",
       " 'segregated',\n",
       " 'via',\n",
       " 'parking:condition:both:residents',\n",
       " 'route',\n",
       " 'atm',\n",
       " 'shelter_type',\n",
       " 'tiger:name_direction_suffix',\n",
       " 'drinking_water',\n",
       " 'turn',\n",
       " 'name:xmf',\n",
       " 'place',\n",
       " 'atm_inside',\n",
       " 'second_hand',\n",
       " 'nhd:reach_code',\n",
       " 'toilets:wheelchair',\n",
       " 'tiger:PLACENS',\n",
       " 'disused:operator',\n",
       " 'name:tpi',\n",
       " 'recycling:glass',\n",
       " 'grade',\n",
       " 'dry_clean',\n",
       " 'name:rn',\n",
       " 'Subclass',\n",
       " 'parking:lane:both',\n",
       " 'disused:shop',\n",
       " 'name:diq',\n",
       " 'wetap:bottle',\n",
       " 'wetap:credit',\n",
       " 'name:ie',\n",
       " 'parking:condition:left:2',\n",
       " 'seamark:buoy_safe_water:shape',\n",
       " 'meadow',\n",
       " 'turn:lanes:both_ways',\n",
       " 'city',\n",
       " 'horse',\n",
       " 'disused:contact:website',\n",
       " 'tiger:upload_uuid',\n",
       " 'service',\n",
       " 'width',\n",
       " 'tracktype',\n",
       " 'addr:housename',\n",
       " 'rcn',\n",
       " 'informal',\n",
       " 'border_type',\n",
       " 'motorcar',\n",
       " 'notes3',\n",
       " 'inside_at_operator',\n",
       " 'park_ride',\n",
       " 'dogs',\n",
       " 'seamark:light:range',\n",
       " 'paved',\n",
       " 'minweight:hgv',\n",
       " 'noname',\n",
       " 'scvwd:FACILITY',\n",
       " 'bridge:movable',\n",
       " 'name:hi',\n",
       " 'name:he',\n",
       " 'service:bicycle:pump',\n",
       " 'parking:lane:right',\n",
       " 'artist_name',\n",
       " 'seamark:light:period',\n",
       " 'is_in:state',\n",
       " 'dentist',\n",
       " 'name:hy',\n",
       " 'golf:practice',\n",
       " 'name:udm',\n",
       " 'name:ht',\n",
       " 'name:hu',\n",
       " 'crossing:bell',\n",
       " 'cable_car',\n",
       " 'seamark:fog_signal:sequence',\n",
       " 'name:zh',\n",
       " 'name:eml',\n",
       " 'name:srn',\n",
       " 'sfgov.org:OBJECTID',\n",
       " 'samtrans_route_ref',\n",
       " 'source_import',\n",
       " 'name:szl',\n",
       " 'barbecue_grill',\n",
       " 'name:lmo',\n",
       " 'crossing:light',\n",
       " 'aeroway',\n",
       " 'architect',\n",
       " 'name:nov',\n",
       " 'wetland',\n",
       " 'note:name',\n",
       " 'landuse',\n",
       " 'addr:pier',\n",
       " 'builder',\n",
       " 'name:it',\n",
       " 'bridge',\n",
       " 'addr:interpolation',\n",
       " 'seamark:daymark:colour_pattern',\n",
       " 'tiger:PCICBSA',\n",
       " 'recommended_speed',\n",
       " 'tiger:NAMELSAD',\n",
       " 'wikidata',\n",
       " 'name:fo',\n",
       " 'est_width',\n",
       " 'vestibule_atm',\n",
       " 'sanitary_dump_station',\n",
       " 'traffic_signals:sound',\n",
       " 'escalator',\n",
       " 'name:haw',\n",
       " 'building:levels',\n",
       " 'vehicle_test_centre',\n",
       " 'zoo',\n",
       " 'note',\n",
       " 'recycling:scrap_metal',\n",
       " 'name:hak',\n",
       " 'protection_title',\n",
       " 'scvwd:SHAPE_Area',\n",
       " 'name:roa-tara',\n",
       " 'csp:globalid',\n",
       " 'elev',\n",
       " 'day_on',\n",
       " 'addr:full',\n",
       " 'name:xal',\n",
       " 'name:wa',\n",
       " 'seamark:beacon_special_purpose:category',\n",
       " 'security_zone',\n",
       " 'name:glk',\n",
       " 'service:bicycle:diy',\n",
       " 'ref:left',\n",
       " 'importuuid',\n",
       " 'station_name',\n",
       " 'name:ha',\n",
       " 'name:wo',\n",
       " 'maxspeed:hgv',\n",
       " 'ALAND',\n",
       " 'railway:name',\n",
       " 'Trunk_Diam',\n",
       " 'placement',\n",
       " 'maxwidth',\n",
       " 'payment:coins',\n",
       " 'url',\n",
       " 'dog',\n",
       " 'Id',\n",
       " 'tiger:MTFCC',\n",
       " 'tactile_paving',\n",
       " 'NRHP',\n",
       " 'mrosd:version',\n",
       " 'tiger:name_direction_suffix_1',\n",
       " 'disused:railway',\n",
       " 'is_in:iso_3166_2',\n",
       " 'quantity',\n",
       " 'shop',\n",
       " 'wetap:photo',\n",
       " 'golf',\n",
       " 'name:ka',\n",
       " 'healthcare:speciality',\n",
       " 'gnis:ST_num',\n",
       " 'Street Fro',\n",
       " 'name:km',\n",
       " 'indoor',\n",
       " 'social_facility',\n",
       " 'Comments',\n",
       " 'name:kw',\n",
       " 'payment:debit_cards',\n",
       " 'name:ku',\n",
       " 'gauge',\n",
       " 'service:bicycle:rental',\n",
       " 'gnis:id',\n",
       " 'parking:condition:right',\n",
       " 'name:ky',\n",
       " 'Tiger:HYDROID',\n",
       " 'tiger:zip_left_4',\n",
       " 'tiger:zip_left_3',\n",
       " 'tiger:zip_left_2',\n",
       " 'tiger:zip_left_1',\n",
       " 'gnis:feature_type',\n",
       " 'psv:lanes:forward',\n",
       " 'outside',\n",
       " 'name:tr',\n",
       " 'localwiki',\n",
       " 'opening_hours:url',\n",
       " 'population',\n",
       " 'turn_restrictions',\n",
       " 'redwood_city_ca:bldg_id',\n",
       " 'transit_access',\n",
       " 'lit',\n",
       " 'name:lv',\n",
       " 'addr:suite',\n",
       " 'name:lt',\n",
       " 'stop',\n",
       " 'drinkwater',\n",
       " 'leisure',\n",
       " 'seamark:buoy_safe_water:colour_pattern',\n",
       " 'name:la',\n",
       " 'cycle_network',\n",
       " 'recycling:waste',\n",
       " 'bldgid',\n",
       " 'roof:colour',\n",
       " 'gnis:County',\n",
       " 'name:li',\n",
       " 'name:ln',\n",
       " 'name:lo',\n",
       " 'hour_off',\n",
       " 'name:eo',\n",
       " 'outside_atm',\n",
       " 'contact:fax',\n",
       " 'wheelchair:description',\n",
       " 'note:lanes',\n",
       " 'name:ee',\n",
       " 'addr:postcode',\n",
       " 'enterance',\n",
       " 'motorboat',\n",
       " 'grades',\n",
       " 'seamark:reference',\n",
       " 'payment:credit_cards',\n",
       " 'internet_access:fee',\n",
       " 'seamark:light:reference',\n",
       " 'tiger:zip_right_2',\n",
       " 'official_name:vi',\n",
       " 'public_transport',\n",
       " 'name:lij',\n",
       " 'fuel',\n",
       " 'name:eu',\n",
       " 'leaf_cycle',\n",
       " 'name:es',\n",
       " 'tiger:zip_right_4',\n",
       " 'name:rm',\n",
       " 'payment:mastercard',\n",
       " 'name:ro',\n",
       " 'map_size',\n",
       " 'alterations',\n",
       " 'tiger:STATEFP',\n",
       " 'source:pkey',\n",
       " 'name:ang',\n",
       " 'route_ref',\n",
       " 'Seasonal_',\n",
       " 'name:co',\n",
       " 'parking',\n",
       " 'name:ru',\n",
       " 'sport',\n",
       " 'name:ce',\n",
       " 'power_supply',\n",
       " 'name:ta',\n",
       " 'capacity',\n",
       " 'payment:none',\n",
       " 'mown',\n",
       " 'wikipedia',\n",
       " 'name:tn',\n",
       " 'name:tg',\n",
       " 'seamark:buoy_lateral:category',\n",
       " 'name:new',\n",
       " 'generator:output:electricity',\n",
       " 'seamark:fog_signal:category',\n",
       " 'boundary',\n",
       " 'email',\n",
       " 'name:fa',\n",
       " 'nextbus:agency',\n",
       " 'destination:ref:forward',\n",
       " 'lanes:backward',\n",
       " 'recycling:books',\n",
       " 'contact:email',\n",
       " 'Shape_Area',\n",
       " 'screen',\n",
       " 'tiger:CLASSFP',\n",
       " 'recycling:batteries',\n",
       " 'denomination',\n",
       " 'name:chy',\n",
       " 'name:ay',\n",
       " 'short_name:vi',\n",
       " 'board_type',\n",
       " 'name:ko',\n",
       " 'circumference',\n",
       " 'monitoring:water_level',\n",
       " 'tiger:PLACEFP',\n",
       " 'name:bm',\n",
       " 'country',\n",
       " 'bicycle:lanes:forward',\n",
       " 'cycleway:right',\n",
       " 'leisure_1',\n",
       " 'maxlength',\n",
       " 'finished_laundry',\n",
       " 'railway',\n",
       " 'name:sah',\n",
       " 'seamark:name',\n",
       " 'source_ref',\n",
       " 'comment',\n",
       " 'recycling:small_appliances',\n",
       " 'drive_through',\n",
       " 'wetap:flow',\n",
       " 'name:om',\n",
       " 'passenger',\n",
       " 'name:oc',\n",
       " 'community',\n",
       " 'height',\n",
       " 'naptan:Landmark',\n",
       " 'rwc_ca:id',\n",
       " 'Street Ont',\n",
       " 'destination:street:to',\n",
       " 'name:os',\n",
       " 'name:or',\n",
       " 'bench',\n",
       " 'boat',\n",
       " 'name:myv',\n",
       " 'recycling:cartons',\n",
       " 'note:address',\n",
       " 'inside_atm_capacity',\n",
       " 'tiger:name_direction_prefix_1',\n",
       " 'lot_no',\n",
       " 'ref:right',\n",
       " 'name:krc',\n",
       " 'county:name',\n",
       " 'BLDGID',\n",
       " 'maintenance',\n",
       " 'old_ref',\n",
       " 'recycling:glass_bottles',\n",
       " 'website',\n",
       " 'direction',\n",
       " 'lanes',\n",
       " 'name:kab',\n",
       " 'mtb:scale:imba',\n",
       " 'capacity:disabled',\n",
       " 'Sign Legen',\n",
       " 'name:mrj',\n",
       " 'source:maxspeed:backward',\n",
       " 'craft',\n",
       " 'official_name',\n",
       " 'gnis:import_uuid',\n",
       " 'toilets:position',\n",
       " 'bulb',\n",
       " 'county:abbrev',\n",
       " 'name:to',\n",
       " 'seamark:topmark:shape',\n",
       " 'busway',\n",
       " 'parking_space',\n",
       " 'name:bar',\n",
       " 'name:yi',\n",
       " 'overtaking',\n",
       " 'railway:traffic_mode',\n",
       " 'seamark:light:exhibition',\n",
       " 'amenity',\n",
       " 'backrest',\n",
       " 'toilets:disposal',\n",
       " 'name:koi',\n",
       " 'gnis:county_id',\n",
       " 'surface',\n",
       " 'lanes:forward',\n",
       " 'disused:contact:phone',\n",
       " 'beer_garden',\n",
       " 'payment:notes',\n",
       " 'social_facility:for',\n",
       " 'name:vi',\n",
       " 'waterway',\n",
       " 'recycling:hazardous_waste',\n",
       " 'name:vo',\n",
       " 'cuisine',\n",
       " 'unsigned_ref',\n",
       " 'short_name',\n",
       " 'name:ext',\n",
       " 'recycling:cardboard',\n",
       " 'name:tzl',\n",
       " 'ISO3166-1:alpha3',\n",
       " 'collection_times',\n",
       " 'lanes:extra',\n",
       " 'fuel:octane_91',\n",
       " 'wires',\n",
       " 'caltrans:pctuse',\n",
       " 'fire_hydrant:position',\n",
       " 'fence_type',\n",
       " 'payment:visa',\n",
       " 'tiger:LSAD',\n",
       " 'noaa:lnam',\n",
       " 'name:ja',\n",
       " 'name:zea',\n",
       " 'seamark:daymark:colour',\n",
       " 'gnis:ST_alpha',\n",
       " 'colour',\n",
       " 'name:fur',\n",
       " 'except',\n",
       " 'name:pdc',\n",
       " 'hgv',\n",
       " 'cutting',\n",
       " 'name:tk',\n",
       " 'bottle',\n",
       " 'oneway',\n",
       " 'change:lanes',\n",
       " 'addr:country',\n",
       " 'name:wuu',\n",
       " 'nextbus:route',\n",
       " 'taxi',\n",
       " 'outdoor',\n",
       " 'nps:length',\n",
       " 'name:cy',\n",
       " 'from',\n",
       " 'name:lb',\n",
       " 'name:cv',\n",
       " 'name:cu',\n",
       " 'name:cs',\n",
       " 'old_name:vi',\n",
       " 'restrooms',\n",
       " 'tiger:zip_right_1',\n",
       " 'addr.source:housenumber',\n",
       " 'tiger:zip_right_3',\n",
       " 'seamark:beacon_lateral:colour',\n",
       " 'tiger:tlid',\n",
       " 'voltage',\n",
       " 'seamark:daymark:construction',\n",
       " 'caltrans:district',\n",
       " 'name:ca',\n",
       " 'trolley_wire',\n",
       " 'toilets',\n",
       " 'scvwd:ROUTEID',\n",
       " 'maxspeed:trailer',\n",
       " 'baby_hatch',\n",
       " 'name:map-bms',\n",
       " 'operator:wikipedia',\n",
       " 'admin_value',\n",
       " 'seamark:daymark:shape',\n",
       " 'name:kaa',\n",
       " 'seamark:buoy_lateral:system',\n",
       " 'name:mdf',\n",
       " 'vestibule_atm_capacity',\n",
       " 'parking:condition:both',\n",
       " 'ele',\n",
       " 'name:dz',\n",
       " 'source',\n",
       " 'location',\n",
       " 'bollard',\n",
       " 'usage',\n",
       " 'gnis:feature_id',\n",
       " 'furniture',\n",
       " 'name:dv',\n",
       " 'tiger:zip_right',\n",
       " 'sfgov.org:OFFICE_TYP',\n",
       " 'name:da',\n",
       " 'payment:discover_card',\n",
       " 'emergency',\n",
       " 'hov:lanes',\n",
       " 'name:chr',\n",
       " 'seamark:buoy_lateral:shape',\n",
       " 'hgv:national_network',\n",
       " 'destination:ref:backward',\n",
       " 'name:dsb',\n",
       " 'tiger:separated',\n",
       " 'historic',\n",
       " 'name:nds',\n",
       " 'recycling:paint',\n",
       " 'lcn',\n",
       " 'psv',\n",
       " 'name',\n",
       " 'tiger:name_base',\n",
       " 'vending',\n",
       " 'utility_wires',\n",
       " 'nps:pets',\n",
       " 'steps',\n",
       " 'name:ig',\n",
       " 'seamark:buoy_lateral:colour',\n",
       " 'parking:condition:right:2:reason',\n",
       " 'recycling:cans',\n",
       " 'tower:type',\n",
       " 'alt_name',\n",
       " 'name:el',\n",
       " 'amenity_1',\n",
       " 'name:nah',\n",
       " 'nps:condition',\n",
       " 'name:zh-min-nan',\n",
       " 'service:bicycle:second_hand',\n",
       " 'cycleway:left',\n",
       " 'FMMP_modified',\n",
       " 'access:bicycle',\n",
       " 'seamark:beacon_lateral:reflectivity',\n",
       " 'name:ksh',\n",
       " 'destination:ref',\n",
       " 'payment:american_express',\n",
       " 'name:lg',\n",
       " 'aed',\n",
       " 'seamark:fog_signal:period',\n",
       " 'local_ref',\n",
       " 'seamark:radar_transponder:category',\n",
       " 'addrid',\n",
       " 'name:no',\n",
       " 'man_made',\n",
       " 'religion',\n",
       " 'destination:lanes',\n",
       " 'name:na',\n",
       " 'lastcheck:date',\n",
       " 'name:de',\n",
       " 'artwork_type',\n",
       " 'seamark:beacon_lateral:category',\n",
       " 'power',\n",
       " 'takeaway',\n",
       " 'addr:paloaltoca_id',\n",
       " 'seamark:light:character',\n",
       " 'name:jv',\n",
       " 'lastcheck:who',\n",
       " 'landcover',\n",
       " 'is_in:state_code',\n",
       " 'recycling:plastic_packaging',\n",
       " 'name:jbo',\n",
       " 'incline',\n",
       " 'footway',\n",
       " 'island',\n",
       " 'change:forward',\n",
       " 'taxon',\n",
       " 'name:pih',\n",
       " 'gnis:Class',\n",
       " 'supervised',\n",
       " 'tiger:name_direction_prefix',\n",
       " 'payment:litecoin',\n",
       " 'horizontal_bar',\n",
       " 'internet_access',\n",
       " 'topmark',\n",
       " 'name:mzn',\n",
       " 'swimming',\n",
       " 'step_count',\n",
       " 'repair',\n",
       " 'image',\n",
       " 'name:xh',\n",
       " 'half_court',\n",
       " 'mtb:scale',\n",
       " 'sfgov:OBJNAME',\n",
       " 'name:az',\n",
       " 'change:backward',\n",
       " 'female',\n",
       " 'health_speciality',\n",
       " 'operator',\n",
       " 'tiger:FUNCSTAT',\n",
       " 'tiger:CPI',\n",
       " 'name:pcd',\n",
       " 'boat_rental',\n",
       " 'area',\n",
       " 'opening_hours',\n",
       " 'contact:phone',\n",
       " 'tiger:name_base_1',\n",
       " 'tiger:name_base_2',\n",
       " 'public_transport:version',\n",
       " 'name:mhr',\n",
       " 'stars',\n",
       " 'heritage',\n",
       " 'tiger:PCINECTA',\n",
       " 'psv:lanes:backward',\n",
       " 'recycling:wood',\n",
       " 'odbl:note',\n",
       " 'tiger:PLCIDFP',\n",
       " 'admin_level',\n",
       " 'seamark:beacon_special_purpose:colour',\n",
       " 'name:csb',\n",
       " 'name:pap',\n",
       " 'bus',\n",
       " 'brand',\n",
       " 'vehicle',\n",
       " 'scvwd:NAME',\n",
       " 'rwc_ca:address_id',\n",
       " 'destination:backward',\n",
       " 'delivery',\n",
       " 'name:zh-classical',\n",
       " 'construction',\n",
       " 'diaper',\n",
       " 'courts',\n",
       " 'old_name',\n",
       " 'fuel:lpg',\n",
       " 'noaa:geohash',\n",
       " 'name:qu',\n",
       " 'open_date',\n",
       " 'name:pag',\n",
       " 'name:pfl',\n",
       " 'Type',\n",
       " 'Tiger:MTFCC',\n",
       " 'name:ltg',\n",
       " 'name:nap',\n",
       " 'bicycle_parking',\n",
       " 'name:kl',\n",
       " 'gnis:reviewed',\n",
       " 'books',\n",
       " 'dispensing',\n",
       " 'name:nso',\n",
       " 'seamark:status',\n",
       " 'name:am',\n",
       " 'name:iu',\n",
       " 'park:type',\n",
       " 'recycling:plastic',\n",
       " 'lanes:both_ways',\n",
       " 'bearing',\n",
       " 'crossing_ref',\n",
       " 'generator:place',\n",
       " 'wetap:quality',\n",
       " 'seamark',\n",
       " 'seamark:rock:water_level',\n",
       " 'car_wash',\n",
       " 'addr:unit',\n",
       " 'maxheight',\n",
       " 'name:stq',\n",
       " 'seamark:beacon_safe_water:shape',\n",
       " 'name:pms',\n",
       " 'floating',\n",
       " 'cables',\n",
       " 'route_master',\n",
       " 'recycling_type',\n",
       " 'is_in:country',\n",
       " 'community:gender',\n",
       " 'traffic_sign',\n",
       " 'name:mwl',\n",
       " 'wetap:statusnote',\n",
       " 'cycleway',\n",
       " 'alt_name:vi',\n",
       " 'name:ilo',\n",
       " 'denotation',\n",
       " 'self_service',\n",
       " 'name:af',\n",
       " 'FMMP_reviewed',\n",
       " 'fire_hydrant:type',\n",
       " 'name:nl',\n",
       " 'name:nn',\n",
       " 'recycling:paper_packaging',\n",
       " 'building:material',\n",
       " 'placement:backward',\n",
       " 'symbol',\n",
       " 'ggt_route_ref',\n",
       " 'is_in:country_code',\n",
       " 'name:ne',\n",
       " 'trail_visibility',\n",
       " 'hnumber',\n",
       " 'addr:county',\n",
       " 'gnis:created',\n",
       " 'name:nv',\n",
       " 'hour_on',\n",
       " 'building',\n",
       " 'drink:wine',\n",
       " ...]"
      ]
     },
     "execution_count": 87,
     "metadata": {},
     "output_type": "execute_result"
    }
   ],
   "source": [
    "list(unique_tags)"
   ]
  },
  {
   "cell_type": "markdown",
   "metadata": {},
   "source": [
    "### There are many different types of tag attributes. I'd like to further explore \"addr:postcode\", \"phone\", and  \"addr:street\" to see if the data is consistent."
   ]
  },
  {
   "cell_type": "markdown",
   "metadata": {},
   "source": [
    "## 1.2 Audit postcode "
   ]
  },
  {
   "cell_type": "code",
   "execution_count": 88,
   "metadata": {
    "collapsed": false
   },
   "outputs": [
    {
     "name": "stdout",
     "output_type": "stream",
     "text": [
      "set(['CA 94544', '94213', 'CA 94541', '94002-2121', 'CA 94546', '94121-3131', '94404', '94401', '94402', '94403', '94563', '94560', '94118', '94611', '94610', 'CA 94133', '94612', '94112', '94113', '94110', '94111', '94116', '94618', '94114', '94115', 'CA:94103', '90214', '94128', '94612-2202', '94127', '94579', '94124', '94123', '94122', '94121', '94129', '94577', '94606', '94607', '94605', '94602', '94603', '94601', '94044', '94801', '94118-4504', '94804', '94805', '94608', '94609', '94965', '94964', '1087', '94720-1076', 'CA 94404', '94118-1316', '94130', '94131', '94132', '94133', '94134', '94549-5506', '94038', '94970', '94030', '94507', '94501', '94037', '94502', '94587', '94580', '14123', '94025-1246', '94518', '94303', '94301', '94901', '95498', '94904', '94143', '94519', '94027', '94025', '94596', '94597', '9412', '94595', 'CA 94560', '515', 'CA 94080', '94598', '941234', '94619', 'ca', '94117', '94017', '94720', '94015', '94014', '94013', '94010', '25426', '94019', '94606-3636', '94523', '94301-2019', '94158', '94109', '94621', '95476', '94080', 'CA', '94087', '94536', '94530', '94005', '2952', '94166', '94164', '94925', '94920', '94002-3585', 'CA94107', '94546', '94104', '94541', '94549', '94545', '94544', '94709', '94708', '94707', '94706', '94705', '94704', '94703', '94702', '94939', '94070', '94578', 'CA 94598', 'CA 94111', '94613', '94121-1545', '94103-3124', 'CA 94530', '94188', '94552', '93710', '94117-9991', '94556', '94555', '94710', '94066', '94108', '94065', '94062', '94063', '94061', '94101', '94103', '94102', '94105', '94002', '94107', 'CA 94603', 'CA 94607', 'CA 94605', '944023025', '94941'])\n"
     ]
    }
   ],
   "source": [
    "postcode_output = set()\n",
    "for elem in get_element(sf_data, tags = (\"tag\",)):\n",
    "    if elem.get('k') == \"addr:postcode\":\n",
    "        postcode_output.add(elem.get('v')) \n",
    "    elem.clear()\n",
    "\n",
    "print postcode_output"
   ]
  },
  {
   "cell_type": "markdown",
   "metadata": {},
   "source": [
    "### In the above postcode set, we see that most postcode is in five-digit format. However, there are some other format, like \"94121-3131\", \"1087\" and \"CA 94598\", other than five-digit postcode. My next step is to write a function to audit postcode."
   ]
  },
  {
   "cell_type": "code",
   "execution_count": 89,
   "metadata": {
    "collapsed": false
   },
   "outputs": [],
   "source": [
    "# define a function to audit postcode\n",
    "def audit_postcode(postcode):\n",
    "    p = re.findall('([0-9]{5})-?', postcode)\n",
    "    if p: return p[0]\n",
    "    else: return None"
   ]
  },
  {
   "cell_type": "code",
   "execution_count": 90,
   "metadata": {
    "collapsed": false,
    "scrolled": false
   },
   "outputs": [
    {
     "name": "stdout",
     "output_type": "stream",
     "text": [
      "set(['94213', '94104', '94404', '94401', '94402', '94403', '94563', '94560', '94118', '94611', '94610', '94613', '94612', '94112', '94113', '94110', '94111', '94116', '94618', '94114', '94115', '90214', '94128', '94127', '94579', '94124', '94123', '94122', '94121', '94129', '94577', '94606', '94607', '94605', '94602', '94603', '94601', '94044', '94801', '94804', '94805', '94608', '94609', '94965', '94964', '94130', '94131', '94132', '94133', '94134', '94038', '94970', '94030', '94507', '94501', '94037', '94502', '94587', '94580', '14123', '94303', '94301', '94901', '95498', '94904', '94518', '94519', '94027', '94025', '94596', '94597', '94595', '94598', '94619', '94117', '94017', '94720', '94015', '94014', '94013', '94010', '25426', '94019', '94523', '94158', '94066', '95476', '94108', '94080', '94087', '94002', '94530', '94005', '94143', '94164', '94925', '94920', None, '94708', '94621', '94541', '94707', '94545', '94544', '94709', '94546', '94549', '94706', '94705', '94704', '94703', '94702', '94939', '94070', '94188', '94552', '93710', '94556', '94555', '94710', '94109', '94578', '94065', '94062', '94063', '94061', '94101', '94103', '94102', '94105', '94536', '94107', '94166', '94941'])\n"
     ]
    }
   ],
   "source": [
    "# test the function on the postcode set\n",
    "test_output = set()\n",
    "for i in postcode_output:\n",
    "    j = audit_postcode(i)\n",
    "    test_output.add(j)\n",
    "print test_output"
   ]
  },
  {
   "cell_type": "code",
   "execution_count": 91,
   "metadata": {
    "collapsed": false
   },
   "outputs": [
    {
     "name": "stdout",
     "output_type": "stream",
     "text": [
      "set(['94213', '94404', '94401', '94402', '94403', '94563', '94560', '94118', '94611', '94610', '94613', '94612', '94112', '94113', '94110', '94111', '94116', '94618', '94114', '94115', '90214', '94128', '94127', '94579', '94124', '94123', '94122', '94121', '94129', '94577', '94606', '94607', '94605', '94602', '94603', '94601', '94044', '94801', '94804', '94805', '94608', '94609', '94965', '94964', '94130', '94131', '94132', '94133', '94134', '94038', '94970', '94030', '94507', '94501', '94037', '94502', '94587', '94580', '14123', '94518', '94303', '94301', '94901', '95498', '94904', '94143', '94519', '94027', '94025', '94596', '94597', '94595', '94598', '94619', '94117', '94017', '94720', '94015', '94014', '94013', '94010', '25426', '94019', '94523', '94158', '94109', '94621', '95476', '94080', '94087', '94536', '94530', '94005', '94166', '94164', '94925', '94920', None, '94546', '94104', '94541', '94549', '94545', '94544', '94709', '94708', '94707', '94706', '94705', '94704', '94703', '94702', '94939', '94070', '94578', '94188', '94552', '93710', '94556', '94555', '94710', '94066', '94108', '94065', '94062', '94063', '94061', '94101', '94103', '94102', '94105', '94002', '94107', '94941'])\n"
     ]
    }
   ],
   "source": [
    "# test the audit_postcode function on the whole data set\n",
    "audit_postcode_set = set()\n",
    "\n",
    "for elem in get_element(sf_data, tags = (\"tag\",)):\n",
    "    if elem.get('k') == \"addr:postcode\":\n",
    "        postcode = audit_postcode(elem.get('v'))\n",
    "        audit_postcode_set.add(postcode)\n",
    "    elem.clear()\n",
    "\n",
    "            \n",
    "print audit_postcode_set"
   ]
  },
  {
   "cell_type": "markdown",
   "metadata": {
    "collapsed": true
   },
   "source": [
    "### The audit_postcode function successfully corrected postcodes"
   ]
  },
  {
   "cell_type": "markdown",
   "metadata": {},
   "source": [
    "## 1.3 Audit phone number"
   ]
  },
  {
   "cell_type": "code",
   "execution_count": 92,
   "metadata": {
    "collapsed": true
   },
   "outputs": [],
   "source": [
    "phone_set = set()\n",
    "for elem in get_element(sf_data, tags = (\"tag\",)):\n",
    "    if elem.get('k') == \"phone\":\n",
    "        phone_set.add(elem.get('v')) \n",
    "    elem.clear()\n"
   ]
  },
  {
   "cell_type": "code",
   "execution_count": 94,
   "metadata": {
    "collapsed": false
   },
   "outputs": [],
   "source": [
    "#pprint.pprint(list(phone_set))  # to save space in the report. I removed this command after testing"
   ]
  },
  {
   "cell_type": "markdown",
   "metadata": {},
   "source": [
    "### From the above phone number set, we see that phone numbers have many different formats. Some numbers have country code. Some  numbers don't. Some  numbers are missing area code. Additionally, there are some cases with non-numeric characters. Next, I'd like to further explore to see if there are incorrect phone numbers. \n"
   ]
  },
  {
   "cell_type": "code",
   "execution_count": 95,
   "metadata": {
    "collapsed": true
   },
   "outputs": [],
   "source": [
    "# define a function to remove all special characters in the phone number to clean up the format\n",
    "def audit_phone(phone):\n",
    "    return re.sub('\\W', '', phone)\n",
    "        \n",
    "#Reference: http://stackoverflow.com/questions/5843518/remove-all-special-characters-punctuation-and-spaces-from-string\n"
   ]
  },
  {
   "cell_type": "code",
   "execution_count": 96,
   "metadata": {
    "collapsed": false
   },
   "outputs": [],
   "source": [
    "audit_phone_set = set([audit_phone(i) for i in phone_set])"
   ]
  },
  {
   "cell_type": "code",
   "execution_count": 97,
   "metadata": {
    "collapsed": false
   },
   "outputs": [
    {
     "name": "stdout",
     "output_type": "stream",
     "text": [
      "153581220\n",
      "415242960\n",
      "yes\n",
      "4159291183or\n",
      "650368384\n",
      "6667011\n",
      "6677005\n",
      "httpwwwpastapastacocom\n",
      "15108951311or18007867783\n",
      "8852222\n",
      "49\n",
      "fire\n"
     ]
    }
   ],
   "source": [
    "for i in audit_phone_set:\n",
    "    if len(i)== 10:\n",
    "        pass\n",
    "    elif len(i)==11:\n",
    "        pass\n",
    "    else: print i\n",
    "        "
   ]
  },
  {
   "cell_type": "markdown",
   "metadata": {},
   "source": [
    "### From the audit_phone_set, we see there are only a few numbers of phone numbers are incorrect. Ignore these entries during creating the JSON data file. The next step is to audit phone numbers to a uniform format."
   ]
  },
  {
   "cell_type": "code",
   "execution_count": 98,
   "metadata": {
    "collapsed": true
   },
   "outputs": [],
   "source": [
    "# define a function to create correct phone numbers in a standard format\n",
    "def standard_phone(phone):\n",
    "    phone = audit_phone(phone)\n",
    "    if len(phone)== 10:\n",
    "        area_code= phone[0:3]\n",
    "        middle_three = phone[3:6]\n",
    "        last_four = phone[6:]\n",
    "        correct_phone = '+1 ' + '(' + area_code + ')' + middle_three + '-' + last_four\n",
    "    elif len(phone) ==11:\n",
    "        area_code= phone[1:4]\n",
    "        middle_three = phone[4:7]\n",
    "        last_four = phone[7:]\n",
    "        correct_phone = '+1 ' + '(' + area_code + ')' + middle_three + '-' + last_four\n",
    "    else: correct_phone = None\n",
    "    return correct_phone\n"
   ]
  },
  {
   "cell_type": "code",
   "execution_count": 99,
   "metadata": {
    "collapsed": false
   },
   "outputs": [],
   "source": [
    "correct_phone_set = set([standard_phone(i) for i in phone_set])"
   ]
  },
  {
   "cell_type": "code",
   "execution_count": 102,
   "metadata": {
    "collapsed": false
   },
   "outputs": [],
   "source": [
    "#pprint.pprint(list(correct_phone_set))  # to save space in the report. I removed this command after testing"
   ]
  },
  {
   "cell_type": "markdown",
   "metadata": {},
   "source": [
    "### The above standard_phone function successfully corrected the format of phone numbers"
   ]
  },
  {
   "cell_type": "markdown",
   "metadata": {},
   "source": [
    "## 1.4 Audit street types"
   ]
  },
  {
   "cell_type": "code",
   "execution_count": 103,
   "metadata": {
    "collapsed": true
   },
   "outputs": [],
   "source": [
    "street_type_re = re.compile(r'\\b\\S+\\.?$', re.IGNORECASE)"
   ]
  },
  {
   "cell_type": "code",
   "execution_count": 104,
   "metadata": {
    "collapsed": true
   },
   "outputs": [],
   "source": [
    "def audit_street_type(street_types, street_name):\n",
    "    m = street_type_re.search(street_name)\n",
    "    if m:\n",
    "        street_type = m.group()\n",
    "        street_types[street_type]+=1\n"
   ]
  },
  {
   "cell_type": "code",
   "execution_count": 105,
   "metadata": {
    "collapsed": true
   },
   "outputs": [],
   "source": [
    "def is_street_name(elem):\n",
    "    return (elem.attrib['k'] == \"addr:street\")\n"
   ]
  },
  {
   "cell_type": "code",
   "execution_count": 109,
   "metadata": {
    "collapsed": false
   },
   "outputs": [],
   "source": [
    "def audit_street(osmfile):\n",
    "    \n",
    "    street_types = defaultdict(int)\n",
    "    \n",
    "    for elem in get_element(osmfile, tags = (\"node\", \"way\")):\n",
    "        for tag in elem.iter(\"tag\"):\n",
    "            if is_street_name(tag):\n",
    "                audit_street_type(street_types, tag.attrib['v'])\n",
    "        \n",
    "        elem.clear()\n",
    "      \n",
    "    '''\n",
    "    context = ET.iterparse(osm_file, events=(\"start\",))\n",
    "    context = iter(context)\n",
    "    event, root = context.next()\n",
    "    for event, elem in context:\n",
    "        if elem.tag == \"node\" or elem.tag == \"way\":\n",
    "            for tag in elem.iter(\"tag\"):\n",
    "                if is_street_name(tag):\n",
    "                    audit_street_type(street_types, tag.attrib['v'])\n",
    "        \n",
    "        root.clear()\n",
    "    osm_file.close()\n",
    "    \n",
    "    '''\n",
    "    \n",
    "    return street_types \n"
   ]
  },
  {
   "cell_type": "code",
   "execution_count": 110,
   "metadata": {
    "collapsed": false
   },
   "outputs": [],
   "source": [
    "street_types = audit_street(sf_data)\n",
    "\n",
    "#Reference: http://stackoverflow.com/questions/12160418/why-is-lxml-etree-iterparse-eating-up-all-my-memory"
   ]
  },
  {
   "cell_type": "code",
   "execution_count": 112,
   "metadata": {
    "collapsed": false
   },
   "outputs": [],
   "source": [
    "#pprint.pprint(dict(street_types)) # to save space in the report. I removed this command after testing"
   ]
  },
  {
   "cell_type": "markdown",
   "metadata": {},
   "source": [
    "### There are many different types of street. Some values are actually not street types. Since such cases are very rare in the dataset, I simply ignore the street types that appear less than 10 times in the dataset when creating the JSON file for database. Audit the rest of street types to a list of standard street types"
   ]
  },
  {
   "cell_type": "code",
   "execution_count": 113,
   "metadata": {
    "collapsed": false
   },
   "outputs": [
    {
     "name": "stdout",
     "output_type": "stream",
     "text": [
      "Number of common street types: 38\n",
      "['Alameda',\n",
      " 'Alley',\n",
      " 'Ave',\n",
      " 'Ave.',\n",
      " 'Avenue',\n",
      " 'Blvd',\n",
      " 'Boulevard',\n",
      " 'Bridgeway',\n",
      " 'Broadway',\n",
      " 'Center',\n",
      " 'Circle',\n",
      " 'Court',\n",
      " 'Dr',\n",
      " 'Drive',\n",
      " 'Embarcadero',\n",
      " 'Gardens',\n",
      " 'H',\n",
      " 'Highway',\n",
      " 'Lane',\n",
      " 'Las',\n",
      " 'Loop',\n",
      " 'Mason',\n",
      " 'Ora',\n",
      " 'Parkway',\n",
      " 'Path',\n",
      " 'Place',\n",
      " 'Plaza',\n",
      " 'Plz',\n",
      " 'Rd',\n",
      " 'Real',\n",
      " 'Road',\n",
      " 'Square',\n",
      " 'St',\n",
      " 'Street',\n",
      " 'Terrace',\n",
      " 'Walk',\n",
      " 'Way',\n",
      " 'avenue']\n"
     ]
    }
   ],
   "source": [
    "# create a list of common street types which have more than 10 counts\n",
    "common_street_types = []\n",
    "for key, value in street_types.items():\n",
    "    if value >=10: common_street_types.append(key)\n",
    "\n",
    "common_street_types.sort()\n",
    "print \"Number of common street types:\", len(common_street_types)\n",
    "pprint.pprint(list(common_street_types))"
   ]
  },
  {
   "cell_type": "markdown",
   "metadata": {},
   "source": [
    "### I found that there are unusual street types in the list, such as \"Alameda\", \"H\", ''Gardens'', \"Las\", \"Ora\" and \"Square\". In order to confirm if they are real street types unique to the San Francisco area, I'd like to pull out the full street name of unusual street types. Given the small number of unusual street types, I can examine them manually.  "
   ]
  },
  {
   "cell_type": "code",
   "execution_count": 115,
   "metadata": {
    "collapsed": false
   },
   "outputs": [],
   "source": [
    "unusual_street_types = [\"Alameda\", \"H\", \"Gardens\", \"Las\", \"Ora\", \"Square\"]\n",
    "unusual_street_names = set()\n",
    "for elem in get_element(sf_data, tags= (\"tag\")):\n",
    "    if elem.get('k') == \"addr:street\":\n",
    "        v = elem.get('v')\n",
    "        m = street_type_re.search(v)\n",
    "        if m:\n",
    "            if m.group() in unusual_street_types:\n",
    "                unusual_street_names.add(elem.get('v')) \n",
    "    elem.clear()\n"
   ]
  },
  {
   "cell_type": "code",
   "execution_count": 116,
   "metadata": {
    "collapsed": false
   },
   "outputs": [
    {
     "name": "stdout",
     "output_type": "stream",
     "text": [
      "['Avenue H',\n",
      " 'Eureka Square',\n",
      " 'Jack London Square',\n",
      " 'The Alameda',\n",
      " 'Union Square',\n",
      " 'Avenue Del Ora',\n",
      " 'Alameda De Las',\n",
      " 'Shattuck Square',\n",
      " 'West Mall Square',\n",
      " 'Wildwood Gardens',\n",
      " 'Alameda',\n",
      " 'Orinda Theatre Square',\n",
      " 'Berkeley Square']\n"
     ]
    }
   ],
   "source": [
    "pprint.pprint(list(unusual_street_names))"
   ]
  },
  {
   "cell_type": "markdown",
   "metadata": {},
   "source": [
    "### By googling the above unusual street names, I found that some of the streets actually exist. However, some are landmarks, not street names. Therefore, I decided to keep the existing street names and remove landmarks, including \"Gardens\", \"Sqaure\" and \"Alameda\" from common street type list."
   ]
  },
  {
   "cell_type": "code",
   "execution_count": 117,
   "metadata": {
    "collapsed": false
   },
   "outputs": [],
   "source": [
    "remove_street = [\"Gardens\",\"Square\",\"Alameda\"]\n",
    "for i in remove_street:\n",
    "    common_street_types.remove(i)"
   ]
  },
  {
   "cell_type": "code",
   "execution_count": 118,
   "metadata": {
    "collapsed": true
   },
   "outputs": [
    {
     "name": "stdout",
     "output_type": "stream",
     "text": [
      "Common street types: 35\n",
      "['Alley',\n",
      " 'Ave',\n",
      " 'Ave.',\n",
      " 'Avenue',\n",
      " 'Blvd',\n",
      " 'Boulevard',\n",
      " 'Bridgeway',\n",
      " 'Broadway',\n",
      " 'Center',\n",
      " 'Circle',\n",
      " 'Court',\n",
      " 'Dr',\n",
      " 'Drive',\n",
      " 'Embarcadero',\n",
      " 'H',\n",
      " 'Highway',\n",
      " 'Lane',\n",
      " 'Las',\n",
      " 'Loop',\n",
      " 'Mason',\n",
      " 'Ora',\n",
      " 'Parkway',\n",
      " 'Path',\n",
      " 'Place',\n",
      " 'Plaza',\n",
      " 'Plz',\n",
      " 'Rd',\n",
      " 'Real',\n",
      " 'Road',\n",
      " 'St',\n",
      " 'Street',\n",
      " 'Terrace',\n",
      " 'Walk',\n",
      " 'Way',\n",
      " 'avenue']\n"
     ]
    }
   ],
   "source": [
    "print \"Common street types:\", len(common_street_types)\n",
    "pprint.pprint(list(common_street_types))"
   ]
  },
  {
   "cell_type": "markdown",
   "metadata": {},
   "source": [
    "### In the above list of common street types, there is inconsistency for a given street type. For example, \"Avenue\" has the three forms -  \"Ave\", \"Avenue\" and \"avenue\". The next step is to audit the street types and create a list of standard common street types."
   ]
  },
  {
   "cell_type": "code",
   "execution_count": 119,
   "metadata": {
    "collapsed": false
   },
   "outputs": [],
   "source": [
    "# create a map to correct inconsistent street types\n",
    "mapping = { \n",
    "            \"Ave\": 'Avenue',\n",
    "            \"Ave.\": 'Avenue',\n",
    "           \"avenue\": 'Avenue',\n",
    "            \"Blvd\": \"Boulevard\",\n",
    "           \"Dr\": \"Drive\",\n",
    "           \"Plz\": \"Plaza\",\n",
    "           'Rd': 'Road',\n",
    "           \"St\": \"Street\"\n",
    "            }\n",
    "\n",
    "expected = common_street_types"
   ]
  },
  {
   "cell_type": "code",
   "execution_count": 120,
   "metadata": {
    "collapsed": false
   },
   "outputs": [],
   "source": [
    "#based on the most common street types, create a standard list street types\n",
    "for key, value in mapping.items():\n",
    "    expected.remove(key)"
   ]
  },
  {
   "cell_type": "code",
   "execution_count": 121,
   "metadata": {
    "collapsed": false
   },
   "outputs": [
    {
     "name": "stdout",
     "output_type": "stream",
     "text": [
      "Number of expected street types 27\n",
      "['Alley', 'Avenue', 'Boulevard', 'Bridgeway', 'Broadway', 'Center', 'Circle', 'Court', 'Drive', 'Embarcadero', 'H', 'Highway', 'Lane', 'Las', 'Loop', 'Mason', 'Ora', 'Parkway', 'Path', 'Place', 'Plaza', 'Real', 'Road', 'Street', 'Terrace', 'Walk', 'Way']\n"
     ]
    }
   ],
   "source": [
    "print \"Number of expected street types\", len(expected)\n",
    "print expected"
   ]
  },
  {
   "cell_type": "markdown",
   "metadata": {},
   "source": [
    "### The above list of expected street types are the final list of street types that will show up in the audited JSON file "
   ]
  },
  {
   "cell_type": "code",
   "execution_count": 122,
   "metadata": {
    "collapsed": false
   },
   "outputs": [],
   "source": [
    "# fix the street names according to the above map. Ignore the rest of uncommon street names when importing to JSON file. \n",
    "\n",
    "def update_name(name, mapping, expected):\n",
    "    words = name.split()\n",
    "    st_type = words[-1]\n",
    "    if st_type in mapping:\n",
    "        return name.replace(st_type, mapping[st_type])\n",
    "    elif st_type in expected:\n",
    "        return name\n",
    "    else: return None"
   ]
  },
  {
   "cell_type": "code",
   "execution_count": 123,
   "metadata": {
    "collapsed": false
   },
   "outputs": [
    {
     "data": {
      "text/plain": [
       "['Rd',\n",
       " 'Cut',\n",
       " '3658',\n",
       " 'broadway',\n",
       " 'Alameda',\n",
       " 'Powell',\n",
       " 'Stairway',\n",
       " 'Marina',\n",
       " 'Path',\n",
       " 'Building',\n",
       " 'Loma',\n",
       " 'I-580',\n",
       " '4.5',\n",
       " 'D',\n",
       " 'H',\n",
       " 'Bay',\n",
       " 'Steps',\n",
       " 'Wharf',\n",
       " 'Alley',\n",
       " 'Folsom',\n",
       " 'Market/Castro',\n",
       " 'Broadway',\n",
       " 'square',\n",
       " 'West',\n",
       " 'Cres',\n",
       " 'Mason',\n",
       " 'street',\n",
       " '3.2',\n",
       " 'Dr.',\n",
       " 'Circle',\n",
       " 'East',\n",
       " 'Pl',\n",
       " 'Palms',\n",
       " 'avenue',\n",
       " 'Park',\n",
       " 'Plz',\n",
       " '3',\n",
       " 'Cumbre',\n",
       " 'I-580)',\n",
       " 'Ferlinghetti',\n",
       " '15th',\n",
       " 'Ora',\n",
       " 'King',\n",
       " 'Ave.',\n",
       " 'Bradshaw',\n",
       " 'Plaza',\n",
       " 'Mall',\n",
       " 'Place',\n",
       " 'Rock',\n",
       " '100',\n",
       " 'Blvd,',\n",
       " 'Loop',\n",
       " 'Blvd.',\n",
       " '39',\n",
       " 'Square',\n",
       " 'Lugano',\n",
       " 'Boulevard',\n",
       " 'Bridgeway',\n",
       " 'St.',\n",
       " 'Rhein',\n",
       " 'Macdonald',\n",
       " 'Pulgas',\n",
       " 'Telegraph',\n",
       " 'Way',\n",
       " '155',\n",
       " 'Lindbergh',\n",
       " 'Columbus',\n",
       " 'North',\n",
       " 'Trail',\n",
       " 'Ness',\n",
       " 'Spencer',\n",
       " '730',\n",
       " '2',\n",
       " 'California',\n",
       " 'Wedemeyer',\n",
       " 'Post',\n",
       " 'Lane',\n",
       " 'B',\n",
       " 'Center',\n",
       " 'Bluxome',\n",
       " 'Arguello',\n",
       " 'St',\n",
       " 'Via',\n",
       " 'Ashfield',\n",
       " 'Market/Noe',\n",
       " 'Parkway',\n",
       " 'Southgate',\n",
       " 'Road',\n",
       " '15',\n",
       " 'Int',\n",
       " 'Walk',\n",
       " 'Sobrante',\n",
       " 'Ave',\n",
       " 'parkway',\n",
       " 'Avenue',\n",
       " 'Market',\n",
       " 'Ct',\n",
       " 'Oakridge',\n",
       " 'Court',\n",
       " 'Floor',\n",
       " 'Vallejo',\n",
       " '10675',\n",
       " 'Avenie',\n",
       " 'Clemente',\n",
       " 'blvd',\n",
       " 'Highway',\n",
       " 'Real',\n",
       " '12180142',\n",
       " 'Francisco',\n",
       " 'arrowhead',\n",
       " 'F',\n",
       " 'Embarcadero',\n",
       " '1',\n",
       " u'122\\xb029\\'07.1\"W',\n",
       " 'Hwy',\n",
       " 'Dr',\n",
       " 'Hall',\n",
       " 'Las',\n",
       " 'A',\n",
       " '200',\n",
       " '203',\n",
       " 'E',\n",
       " 'Ctr',\n",
       " '41276',\n",
       " 'M',\n",
       " 'Drive',\n",
       " 'Freeway',\n",
       " 'Pollard',\n",
       " 'Airport',\n",
       " 'Alto',\n",
       " '488',\n",
       " 'Ln.',\n",
       " 'Gardens',\n",
       " 'Rd.',\n",
       " 'View',\n",
       " 'Bridge',\n",
       " 'Monte',\n",
       " 'Mission',\n",
       " 'st',\n",
       " 'Street',\n",
       " 'Leslie',\n",
       " 'Terrace',\n",
       " 'Pablo',\n",
       " 'Blvd',\n",
       " 'Ic',\n",
       " 'Crescent']"
      ]
     },
     "execution_count": 123,
     "metadata": {},
     "output_type": "execute_result"
    }
   ],
   "source": [
    "street_types.keys() # Use this list of street types to test the update_name function"
   ]
  },
  {
   "cell_type": "code",
   "execution_count": 124,
   "metadata": {
    "collapsed": false
   },
   "outputs": [
    {
     "name": "stdout",
     "output_type": "stream",
     "text": [
      "Before updating: Rd ==> after updating: Road\n",
      "Before updating: Cut ==> after updating: None\n",
      "Before updating: 3658 ==> after updating: None\n",
      "Before updating: broadway ==> after updating: None\n",
      "Before updating: Alameda ==> after updating: None\n",
      "Before updating: Powell ==> after updating: None\n",
      "Before updating: Stairway ==> after updating: None\n",
      "Before updating: Marina ==> after updating: None\n",
      "Before updating: Path ==> after updating: Path\n",
      "Before updating: Building ==> after updating: None\n",
      "Before updating: Loma ==> after updating: None\n",
      "Before updating: I-580 ==> after updating: None\n",
      "Before updating: 4.5 ==> after updating: None\n",
      "Before updating: D ==> after updating: None\n",
      "Before updating: H ==> after updating: H\n",
      "Before updating: Bay ==> after updating: None\n",
      "Before updating: Steps ==> after updating: None\n",
      "Before updating: Wharf ==> after updating: None\n",
      "Before updating: Alley ==> after updating: Alley\n",
      "Before updating: Folsom ==> after updating: None\n",
      "Before updating: Market/Castro ==> after updating: None\n",
      "Before updating: Broadway ==> after updating: Broadway\n",
      "Before updating: square ==> after updating: None\n",
      "Before updating: West ==> after updating: None\n",
      "Before updating: Cres ==> after updating: None\n",
      "Before updating: Mason ==> after updating: Mason\n",
      "Before updating: street ==> after updating: None\n",
      "Before updating: 3.2 ==> after updating: None\n",
      "Before updating: Dr. ==> after updating: None\n",
      "Before updating: Circle ==> after updating: Circle\n",
      "Before updating: East ==> after updating: None\n",
      "Before updating: Pl ==> after updating: None\n",
      "Before updating: Palms ==> after updating: None\n",
      "Before updating: avenue ==> after updating: Avenue\n",
      "Before updating: Park ==> after updating: None\n",
      "Before updating: Plz ==> after updating: Plaza\n",
      "Before updating: 3 ==> after updating: None\n",
      "Before updating: Cumbre ==> after updating: None\n",
      "Before updating: I-580) ==> after updating: None\n",
      "Before updating: Ferlinghetti ==> after updating: None\n",
      "Before updating: 15th ==> after updating: None\n",
      "Before updating: Ora ==> after updating: Ora\n",
      "Before updating: King ==> after updating: None\n",
      "Before updating: Ave. ==> after updating: Avenue\n",
      "Before updating: Bradshaw ==> after updating: None\n",
      "Before updating: Plaza ==> after updating: Plaza\n",
      "Before updating: Mall ==> after updating: None\n",
      "Before updating: Place ==> after updating: Place\n",
      "Before updating: Rock ==> after updating: None\n",
      "Before updating: 100 ==> after updating: None\n",
      "Before updating: Blvd, ==> after updating: None\n",
      "Before updating: Loop ==> after updating: Loop\n",
      "Before updating: Blvd. ==> after updating: None\n",
      "Before updating: 39 ==> after updating: None\n",
      "Before updating: Square ==> after updating: None\n",
      "Before updating: Lugano ==> after updating: None\n",
      "Before updating: Boulevard ==> after updating: Boulevard\n",
      "Before updating: Bridgeway ==> after updating: Bridgeway\n",
      "Before updating: St. ==> after updating: None\n",
      "Before updating: Rhein ==> after updating: None\n",
      "Before updating: Macdonald ==> after updating: None\n",
      "Before updating: Pulgas ==> after updating: None\n",
      "Before updating: Telegraph ==> after updating: None\n",
      "Before updating: Way ==> after updating: Way\n",
      "Before updating: 155 ==> after updating: None\n",
      "Before updating: Lindbergh ==> after updating: None\n",
      "Before updating: Columbus ==> after updating: None\n",
      "Before updating: North ==> after updating: None\n",
      "Before updating: Trail ==> after updating: None\n",
      "Before updating: Ness ==> after updating: None\n",
      "Before updating: Spencer ==> after updating: None\n",
      "Before updating: 730 ==> after updating: None\n",
      "Before updating: 2 ==> after updating: None\n",
      "Before updating: California ==> after updating: None\n",
      "Before updating: Wedemeyer ==> after updating: None\n",
      "Before updating: Post ==> after updating: None\n",
      "Before updating: Lane ==> after updating: Lane\n",
      "Before updating: B ==> after updating: None\n",
      "Before updating: Center ==> after updating: Center\n",
      "Before updating: Bluxome ==> after updating: None\n",
      "Before updating: Arguello ==> after updating: None\n",
      "Before updating: St ==> after updating: Street\n",
      "Before updating: Via ==> after updating: None\n",
      "Before updating: Ashfield ==> after updating: None\n",
      "Before updating: Market/Noe ==> after updating: None\n",
      "Before updating: Parkway ==> after updating: Parkway\n",
      "Before updating: Southgate ==> after updating: None\n",
      "Before updating: Road ==> after updating: Road\n",
      "Before updating: 15 ==> after updating: None\n",
      "Before updating: Int ==> after updating: None\n",
      "Before updating: Walk ==> after updating: Walk\n",
      "Before updating: Sobrante ==> after updating: None\n",
      "Before updating: Ave ==> after updating: Avenue\n",
      "Before updating: parkway ==> after updating: None\n",
      "Before updating: Avenue ==> after updating: Avenue\n",
      "Before updating: Market ==> after updating: None\n",
      "Before updating: Ct ==> after updating: None\n",
      "Before updating: Oakridge ==> after updating: None\n",
      "Before updating: Court ==> after updating: Court\n",
      "Before updating: Floor ==> after updating: None\n",
      "Before updating: Vallejo ==> after updating: None\n",
      "Before updating: 10675 ==> after updating: None\n",
      "Before updating: Avenie ==> after updating: None\n",
      "Before updating: Clemente ==> after updating: None\n",
      "Before updating: blvd ==> after updating: None\n",
      "Before updating: Highway ==> after updating: Highway\n",
      "Before updating: Real ==> after updating: Real\n",
      "Before updating: 12180142 ==> after updating: None\n",
      "Before updating: Francisco ==> after updating: None\n",
      "Before updating: arrowhead ==> after updating: None\n",
      "Before updating: F ==> after updating: None\n",
      "Before updating: Embarcadero ==> after updating: Embarcadero\n",
      "Before updating: 1 ==> after updating: None\n",
      "Before updating: 122°29'07.1\"W ==> after updating: None\n",
      "Before updating: Hwy ==> after updating: None\n",
      "Before updating: Dr ==> after updating: Drive\n",
      "Before updating: Hall ==> after updating: None\n",
      "Before updating: Las ==> after updating: Las\n",
      "Before updating: A ==> after updating: None\n",
      "Before updating: 200 ==> after updating: None\n",
      "Before updating: 203 ==> after updating: None\n",
      "Before updating: E ==> after updating: None\n",
      "Before updating: Ctr ==> after updating: None\n",
      "Before updating: 41276 ==> after updating: None\n",
      "Before updating: M ==> after updating: None\n",
      "Before updating: Drive ==> after updating: Drive\n",
      "Before updating: Freeway ==> after updating: None\n",
      "Before updating: Pollard ==> after updating: None\n",
      "Before updating: Airport ==> after updating: None\n",
      "Before updating: Alto ==> after updating: None\n",
      "Before updating: 488 ==> after updating: None\n",
      "Before updating: Ln. ==> after updating: None\n",
      "Before updating: Gardens ==> after updating: None\n",
      "Before updating: Rd. ==> after updating: None\n",
      "Before updating: View ==> after updating: None\n",
      "Before updating: Bridge ==> after updating: None\n",
      "Before updating: Monte ==> after updating: None\n",
      "Before updating: Mission ==> after updating: None\n",
      "Before updating: st ==> after updating: None\n",
      "Before updating: Street ==> after updating: Street\n",
      "Before updating: Leslie ==> after updating: None\n",
      "Before updating: Terrace ==> after updating: Terrace\n",
      "Before updating: Pablo ==> after updating: None\n",
      "Before updating: Blvd ==> after updating: Boulevard\n",
      "Before updating: Ic ==> after updating: None\n",
      "Before updating: Crescent ==> after updating: None\n"
     ]
    }
   ],
   "source": [
    "# test the function of update_name on street types \n",
    "for i in street_types.keys():\n",
    "    audit_list = mapping.keys()\n",
    "    name = update_name(i, mapping, expected)\n",
    "    print \"Before updating:\", i, \"==>\", \"after updating:\", name"
   ]
  },
  {
   "cell_type": "markdown",
   "metadata": {
    "collapsed": false
   },
   "source": [
    "### The above update_name function successfully corrected street types"
   ]
  },
  {
   "cell_type": "markdown",
   "metadata": {
    "collapsed": true
   },
   "source": [
    "## So far, I have identified three problems with the dataset and wrote functions to correct them. The three problems encountered are:\n",
    "### 1. Postcodes have different formats and invalid postcode\n",
    "### 2. Phone numbers have different formats and invalide numbers\n",
    "### 3. Street types have different formats and invalid street types\n"
   ]
  },
  {
   "cell_type": "markdown",
   "metadata": {},
   "source": [
    "## 1.5 Parse audited data into JSON file and import it into MongoDB"
   ]
  },
  {
   "cell_type": "code",
   "execution_count": 132,
   "metadata": {
    "collapsed": true
   },
   "outputs": [],
   "source": [
    "import codecs\n",
    "import json"
   ]
  },
  {
   "cell_type": "code",
   "execution_count": 126,
   "metadata": {
    "collapsed": true
   },
   "outputs": [
    {
     "data": {
      "text/plain": [
       "['Alley',\n",
       " 'Avenue',\n",
       " 'Boulevard',\n",
       " 'Bridgeway',\n",
       " 'Broadway',\n",
       " 'Center',\n",
       " 'Circle',\n",
       " 'Court',\n",
       " 'Drive',\n",
       " 'Embarcadero',\n",
       " 'H',\n",
       " 'Highway',\n",
       " 'Lane',\n",
       " 'Las',\n",
       " 'Loop',\n",
       " 'Mason',\n",
       " 'Ora',\n",
       " 'Parkway',\n",
       " 'Path',\n",
       " 'Place',\n",
       " 'Plaza',\n",
       " 'Real',\n",
       " 'Road',\n",
       " 'Street',\n",
       " 'Terrace',\n",
       " 'Walk',\n",
       " 'Way']"
      ]
     },
     "execution_count": 126,
     "metadata": {},
     "output_type": "execute_result"
    }
   ],
   "source": [
    "expected # standard street types"
   ]
  },
  {
   "cell_type": "code",
   "execution_count": 127,
   "metadata": {
    "collapsed": false
   },
   "outputs": [
    {
     "data": {
      "text/plain": [
       "{'Ave': 'Avenue',\n",
       " 'Ave.': 'Avenue',\n",
       " 'Blvd': 'Boulevard',\n",
       " 'Dr': 'Drive',\n",
       " 'Plz': 'Plaza',\n",
       " 'Rd': 'Road',\n",
       " 'St': 'Street',\n",
       " 'avenue': 'Avenue'}"
      ]
     },
     "execution_count": 127,
     "metadata": {},
     "output_type": "execute_result"
    }
   ],
   "source": [
    "mapping # abbreviations of street types that need to be improved"
   ]
  },
  {
   "cell_type": "code",
   "execution_count": 128,
   "metadata": {
    "collapsed": true
   },
   "outputs": [],
   "source": [
    "CREATED = [ \"version\", \"changeset\", \"timestamp\", \"user\", \"uid\"]"
   ]
  },
  {
   "cell_type": "code",
   "execution_count": 129,
   "metadata": {
    "collapsed": false
   },
   "outputs": [],
   "source": [
    "def shape_element(element):\n",
    "    node = {}\n",
    "    if element.tag == \"node\" or element.tag == \"way\" :\n",
    "        node['id']= element.get('id')\n",
    "        node['type'] = element.tag\n",
    "        node['visible'] = element.get('visible')\n",
    "        node['created'] ={}\n",
    "        for key in CREATED:\n",
    "            node['created'][key] = element.get(key)\n",
    "        if element.get('lat') != None and element.get('lon') != None:\n",
    "            node['pos'] = [ float(element.get('lat')), float(element.get('lon'))]\n",
    "       \n",
    "        address = {}\n",
    "        node_refs = []\n",
    "        for child in element:\n",
    "            if child.tag ==\"tag\":\n",
    "                k = child.get('k')\n",
    "                \n",
    "                val = child.get('v')\n",
    "                if k and val:\n",
    "                    \n",
    "                    if re.search('^addr:', k):\n",
    "                       \n",
    "                        key = re.findall('^addr:(.+$)', k)[0]\n",
    "                        if key == \"postcode\":\n",
    "                            val = audit_postcode(val)\n",
    "                        elif key == \"street\":\n",
    "                            val = update_name(val, mapping, expected)\n",
    "                        else: pass\n",
    "                        address[key]= val\n",
    "\n",
    "                    elif k == \"phone\":\n",
    "                        val = standard_phone(val)\n",
    "                        node[k] = val\n",
    "                    else: \n",
    "                        node[k]= val\n",
    "            \n",
    "            elif child.tag == 'nd':\n",
    "                node_refs.append(child.get('ref'))\n",
    "        if address:\n",
    "            node[\"address\"] = address\n",
    "        if node_refs:\n",
    "            node[\"node_refs\"] = node_refs\n",
    "        return node\n",
    "    else:\n",
    "        return None\n"
   ]
  },
  {
   "cell_type": "code",
   "execution_count": 130,
   "metadata": {
    "collapsed": true
   },
   "outputs": [],
   "source": [
    "import time\n",
    "\n",
    "def process_map(file_in, pretty = False):\n",
    "    t0 = time.time()\n",
    "    file_out = \"{0}.json\".format(file_in)\n",
    "    data = []\n",
    "    with codecs.open(file_out, \"w\") as fo:\n",
    "        \n",
    "        for element in get_element(file_in, tags=(\"node\", \"way\")):\n",
    "            el = shape_element(element)\n",
    "            if el:\n",
    "                data.append(el)\n",
    "                if pretty:\n",
    "                    fo.write(json.dumps(el, indent=2)+\"\\n\")\n",
    "                else:\n",
    "                    fo.write(json.dumps(el) + \"\\n\")\n",
    "            \n",
    "    t1 = time.time()\n",
    "\n",
    "    total = t1-t0\n",
    "    print \"total process_map time:\", total\n",
    "    return file_out\n",
    "# The functions process_map and get_element are efficient to process large data file     "
   ]
  },
  {
   "cell_type": "code",
   "execution_count": 133,
   "metadata": {
    "collapsed": false,
    "scrolled": true
   },
   "outputs": [
    {
     "name": "stdout",
     "output_type": "stream",
     "text": [
      "total process_map time: 247.028000116\n"
     ]
    },
    {
     "data": {
      "text/plain": [
       "'san-francisco_california.osm.json'"
      ]
     },
     "execution_count": 133,
     "metadata": {},
     "output_type": "execute_result"
    }
   ],
   "source": [
    "process_map(\"san-francisco_california.osm\")"
   ]
  },
  {
   "cell_type": "markdown",
   "metadata": {},
   "source": [
    "### The improved get_element() and process_map() functions are able to process the original file (about 1GB) efficiently in time and memory. "
   ]
  },
  {
   "cell_type": "code",
   "execution_count": 134,
   "metadata": {
    "collapsed": false
   },
   "outputs": [],
   "source": [
    "#process_map(\"sample_sf.osm\")"
   ]
  },
  {
   "cell_type": "markdown",
   "metadata": {
    "collapsed": false
   },
   "source": [
    "## Import into MongoDB. Import the .json file through command line as follow"
   ]
  },
  {
   "cell_type": "markdown",
   "metadata": {},
   "source": [
    "#### > net start MongoDB (in cmd prompt under Administrator role)\n",
    "#### > mongoimport --db OpenStreetMap --collection SanFrancisco_Yield --file C:\\Users\\...\\san-francisco_california.osm.json"
   ]
  },
  {
   "cell_type": "code",
   "execution_count": 136,
   "metadata": {
    "collapsed": false
   },
   "outputs": [],
   "source": [
    "from pymongo import MongoClient\n",
    "from pprint import pprint\n",
    "import pymongo\n",
    "\n",
    "client=MongoClient(\"localhost\", 27017)\n",
    "db = client.OpenStreetMap\n"
   ]
  },
  {
   "cell_type": "code",
   "execution_count": 137,
   "metadata": {
    "collapsed": false
   },
   "outputs": [],
   "source": [
    "coll = db.SanFrancisco_Yield"
   ]
  },
  {
   "cell_type": "markdown",
   "metadata": {},
   "source": [
    "### san-francisco_california.osm  file size: 929MB\n",
    "### san-francisco_california.osm.json   file size: 1.16 GB"
   ]
  },
  {
   "cell_type": "markdown",
   "metadata": {},
   "source": [
    "# 2 Data overview"
   ]
  },
  {
   "cell_type": "markdown",
   "metadata": {},
   "source": [
    "### Explore the document fields in the collection"
   ]
  },
  {
   "cell_type": "code",
   "execution_count": 139,
   "metadata": {
    "collapsed": false
   },
   "outputs": [
    {
     "name": "stdout",
     "output_type": "stream",
     "text": [
      "{u'_id': ObjectId('56e4d2b070997f97f1aabd43'),\n",
      " u'address': {u'housenumber': u'1601',\n",
      "              u'postcode': u'94117',\n",
      "              u'street': u'Haight Street'},\n",
      " u'amenity': u'bar',\n",
      " u'created': {u'changeset': u'15927535',\n",
      "              u'timestamp': u'2013-04-30T23:45:40Z',\n",
      "              u'uid': u'1405729',\n",
      "              u'user': u'jabel119',\n",
      "              u'version': u'6'},\n",
      " u'id': u'61676294',\n",
      " u'name': u\"Hobson's Choice\",\n",
      " u'phone': u'+1 (415)621-5859',\n",
      " u'pos': [37.7696028, -122.4487897],\n",
      " u'type': u'node',\n",
      " u'visible': None,\n",
      " u'wifi': u'no'}\n",
      "{u'_id': ObjectId('56e4d2b070997f97f1aabd48'),\n",
      " u'address': {u'city': u'San Francisco',\n",
      "              u'housenumber': u'1390',\n",
      "              u'postcode': u'94102',\n",
      "              u'state': u'CA',\n",
      "              u'street': u'Market Street'},\n",
      " u'amenity': u'post_office',\n",
      " u'created': {u'changeset': u'22611423',\n",
      "              u'timestamp': u'2014-05-29T04:29:32Z',\n",
      "              u'uid': u'501715',\n",
      "              u'user': u'rkuris',\n",
      "              u'version': u'7'},\n",
      " u'id': u'61689054',\n",
      " u'name': u'Fox Plaza',\n",
      " u'phone': u'+1 (415)931-1053',\n",
      " u'pos': [37.7774401, -122.4169146],\n",
      " u'postal_code': u'94102',\n",
      " u'sfgov.org:OBJECTID': u'16',\n",
      " u'sfgov.org:OFFICE_TYP': u'Post Office',\n",
      " u'type': u'node',\n",
      " u'visible': None}\n",
      "{u'_id': ObjectId('56e4d2b070997f97f1aabd4d'),\n",
      " u'address': {u'housenumber': u'500', u'street': u'Sacramento Street'},\n",
      " u'amenity': u'pub',\n",
      " u'created': {u'changeset': u'35937417',\n",
      "              u'timestamp': u'2015-12-14T07:08:52Z',\n",
      "              u'uid': u'290680',\n",
      "              u'user': u'wheelmap_visitor',\n",
      "              u'version': u'6'},\n",
      " u'id': u'61692712',\n",
      " u'name': u'Irish Times',\n",
      " u'old_name': u\"Norton's Vault\",\n",
      " u'phone': u'+1 (800)800-8008',\n",
      " u'pos': [37.7940429, -122.4015184],\n",
      " u'type': u'node',\n",
      " u'visible': None,\n",
      " u'wheelchair': u'no'}\n",
      "54282\n"
     ]
    }
   ],
   "source": [
    "# the goal to check out the format of address information\n",
    "count =0\n",
    "j=0\n",
    "for i in coll.find():\n",
    "    if count ==3:\n",
    "        break\n",
    "    elif \"address\" in i and \"phone\" in i:\n",
    "        pprint(i)\n",
    "        count +=1\n",
    "    j+=1\n",
    "\n",
    "print j"
   ]
  },
  {
   "cell_type": "markdown",
   "metadata": {
    "collapsed": true
   },
   "source": [
    "### Number of total documents in SanFrancisco collection"
   ]
  },
  {
   "cell_type": "code",
   "execution_count": 141,
   "metadata": {
    "collapsed": false
   },
   "outputs": [
    {
     "data": {
      "text/plain": [
       "4971220"
      ]
     },
     "execution_count": 141,
     "metadata": {},
     "output_type": "execute_result"
    }
   ],
   "source": [
    "coll.count()\n",
    "# The count of documents in collection is equal to the number of \"node\" and \"way\" in the .osm file. \n",
    "# This demonstrated that all entries are imported into the database"
   ]
  },
  {
   "cell_type": "markdown",
   "metadata": {},
   "source": [
    "### Number of nodes"
   ]
  },
  {
   "cell_type": "code",
   "execution_count": 142,
   "metadata": {
    "collapsed": false
   },
   "outputs": [
    {
     "data": {
      "text/plain": [
       "4466886"
      ]
     },
     "execution_count": 142,
     "metadata": {},
     "output_type": "execute_result"
    }
   ],
   "source": [
    "coll.find({\"type\": \"node\"}).count()"
   ]
  },
  {
   "cell_type": "markdown",
   "metadata": {},
   "source": [
    "### Number of ways"
   ]
  },
  {
   "cell_type": "code",
   "execution_count": 143,
   "metadata": {
    "collapsed": false
   },
   "outputs": [
    {
     "data": {
      "text/plain": [
       "504216"
      ]
     },
     "execution_count": 143,
     "metadata": {},
     "output_type": "execute_result"
    }
   ],
   "source": [
    "coll.find({\"type\": \"way\"}).count()"
   ]
  },
  {
   "cell_type": "markdown",
   "metadata": {},
   "source": [
    "### Number of unique users that contributed to the dataset"
   ]
  },
  {
   "cell_type": "code",
   "execution_count": 144,
   "metadata": {
    "collapsed": false
   },
   "outputs": [],
   "source": [
    "total_unique_user = coll.aggregate([\n",
    "        {\"$group\": {\"_id\": \"$created.user\", \"user_count\": {\"$sum\": 1}}},\n",
    "        {\"$group\": {\"_id\": \"total unique users\", \"count\": {\"$sum\": 1}}},\n",
    "    ])"
   ]
  },
  {
   "cell_type": "code",
   "execution_count": 145,
   "metadata": {
    "collapsed": false
   },
   "outputs": [
    {
     "name": "stdout",
     "output_type": "stream",
     "text": [
      "Number of unique users: [{u'count': 2175, u'_id': u'total unique users'}]\n"
     ]
    }
   ],
   "source": [
    "print \"Number of unique users:\" , list(total_unique_user)"
   ]
  },
  {
   "cell_type": "markdown",
   "metadata": {},
   "source": [
    "### Top contributing users"
   ]
  },
  {
   "cell_type": "code",
   "execution_count": 146,
   "metadata": {
    "collapsed": true
   },
   "outputs": [],
   "source": [
    "top10_user = coll.aggregate([\n",
    "        {\"$group\": {\"_id\": \"$created.user\", \"count\": {\"$sum\": 1}}},\n",
    "        {\"$sort\": {\"count\": -1}},\n",
    "        {\"$limit\": 10}\n",
    "    ])"
   ]
  },
  {
   "cell_type": "code",
   "execution_count": 147,
   "metadata": {
    "collapsed": false
   },
   "outputs": [
    {
     "data": {
      "text/plain": [
       "[{u'_id': u'ediyes', u'count': 944207},\n",
       " {u'_id': u'Luis36995', u'count': 720327},\n",
       " {u'_id': u'Rub21', u'count': 410652},\n",
       " {u'_id': u'RichRico', u'count': 223260},\n",
       " {u'_id': u'calfarome', u'count': 184244},\n",
       " {u'_id': u'oldtopos', u'count': 168200},\n",
       " {u'_id': u'KindredCoda', u'count': 143806},\n",
       " {u'_id': u'karitotp', u'count': 132836},\n",
       " {u'_id': u'samely', u'count': 123694},\n",
       " {u'_id': u'abel801', u'count': 108516}]"
      ]
     },
     "execution_count": 147,
     "metadata": {},
     "output_type": "execute_result"
    }
   ],
   "source": [
    "list(top10_user) # the top 10 contributing users"
   ]
  },
  {
   "cell_type": "markdown",
   "metadata": {},
   "source": [
    "### Amenity summary"
   ]
  },
  {
   "cell_type": "code",
   "execution_count": 148,
   "metadata": {
    "collapsed": false
   },
   "outputs": [],
   "source": [
    "amenity =  coll.aggregate( [\n",
    "        {\"$group\": {\"_id\": \"$amenity\", \"count\": {\"$sum\": 1}}},\n",
    "        {\"$sort\": {\"count\": -1}},\n",
    "        {\"$limit\": 10}\n",
    "        ])\n"
   ]
  },
  {
   "cell_type": "code",
   "execution_count": 149,
   "metadata": {
    "collapsed": false
   },
   "outputs": [
    {
     "name": "stdout",
     "output_type": "stream",
     "text": [
      "top 10 amenities:\n"
     ]
    },
    {
     "data": {
      "text/plain": [
       "[{u'_id': None, u'count': 4953455},\n",
       " {u'_id': u'parking', u'count': 3987},\n",
       " {u'_id': u'restaurant', u'count': 2650},\n",
       " {u'_id': u'school', u'count': 1304},\n",
       " {u'_id': u'place_of_worship', u'count': 1119},\n",
       " {u'_id': u'bench', u'count': 964},\n",
       " {u'_id': u'cafe', u'count': 834},\n",
       " {u'_id': u'post_box', u'count': 646},\n",
       " {u'_id': u'fast_food', u'count': 584},\n",
       " {u'_id': u'bicycle_parking', u'count': 480}]"
      ]
     },
     "execution_count": 149,
     "metadata": {},
     "output_type": "execute_result"
    }
   ],
   "source": [
    "print \"top 10 amenities:\"\n",
    "list(amenity)"
   ]
  },
  {
   "cell_type": "markdown",
   "metadata": {},
   "source": [
    "### Number of records based on postcode"
   ]
  },
  {
   "cell_type": "code",
   "execution_count": 150,
   "metadata": {
    "collapsed": false
   },
   "outputs": [],
   "source": [
    "postcode =  coll.aggregate( [\n",
    "        {\"$group\": {\"_id\": \"$address.postcode\", \"count\": {\"$sum\": 1}}},\n",
    "        {\"$sort\": {\"count\": -1}},\n",
    "        {\"$limit\": 10}\n",
    "        ])\n"
   ]
  },
  {
   "cell_type": "code",
   "execution_count": 151,
   "metadata": {
    "collapsed": false
   },
   "outputs": [
    {
     "name": "stdout",
     "output_type": "stream",
     "text": [
      "Top 10 postcode area with most records:\n"
     ]
    },
    {
     "data": {
      "text/plain": [
       "[{u'_id': None, u'count': 4952162},\n",
       " {u'_id': u'94122', u'count': 4580},\n",
       " {u'_id': u'94611', u'count': 2982},\n",
       " {u'_id': u'94116', u'count': 2022},\n",
       " {u'_id': u'94610', u'count': 1349},\n",
       " {u'_id': u'94133', u'count': 1057},\n",
       " {u'_id': u'94117', u'count': 993},\n",
       " {u'_id': u'94127', u'count': 597},\n",
       " {u'_id': u'94103', u'count': 505},\n",
       " {u'_id': u'94109', u'count': 440}]"
      ]
     },
     "execution_count": 151,
     "metadata": {},
     "output_type": "execute_result"
    }
   ],
   "source": [
    "print \"Top 10 postcode area with most records:\"\n",
    "list(postcode)"
   ]
  },
  {
   "cell_type": "markdown",
   "metadata": {
    "collapsed": false
   },
   "source": [
    "### Religions in the area"
   ]
  },
  {
   "cell_type": "code",
   "execution_count": 74,
   "metadata": {
    "collapsed": false
   },
   "outputs": [
    {
     "data": {
      "text/plain": [
       "'\\n# look up the information of document with \"place of worship\"\\ncount =0\\nj=0\\nfor i in coll.find():\\n    if count ==3:\\n        break\\n    else:\\n        if \"amenity\" not in i: continue\\n        else:\\n            v = i[\\'amenity\\']\\n            if v == \"place_of_worship\":\\n                pprint(i)\\n                count +=1\\n'"
      ]
     },
     "execution_count": 74,
     "metadata": {},
     "output_type": "execute_result"
    }
   ],
   "source": [
    "'''\n",
    "# look up the information of document with \"place of worship\"\n",
    "count =0\n",
    "j=0\n",
    "for i in coll.find():\n",
    "    if count ==3:\n",
    "        break\n",
    "    else:\n",
    "        if \"amenity\" not in i: continue\n",
    "        else:\n",
    "            v = i['amenity']\n",
    "            if v == \"place_of_worship\":\n",
    "                pprint(i)\n",
    "                count +=1\n",
    "'''\n"
   ]
  },
  {
   "cell_type": "code",
   "execution_count": 152,
   "metadata": {
    "collapsed": false
   },
   "outputs": [],
   "source": [
    "place_of_worship =  coll.aggregate( [\n",
    "        {\"$group\": {\"_id\": \"$religion\", \"count\": {\"$sum\": 1}}},\n",
    "        {\"$sort\": {\"count\": -1}},\n",
    "        {\"$limit\": 10}\n",
    "        ])"
   ]
  },
  {
   "cell_type": "code",
   "execution_count": 153,
   "metadata": {
    "collapsed": false
   },
   "outputs": [
    {
     "name": "stdout",
     "output_type": "stream",
     "text": [
      "Top 10 religions in the area:\n"
     ]
    },
    {
     "data": {
      "text/plain": [
       "[{u'_id': None, u'count': 4970114},\n",
       " {u'_id': u'christian', u'count': 1032},\n",
       " {u'_id': u'buddhist', u'count': 31},\n",
       " {u'_id': u'jewish', u'count': 20},\n",
       " {u'_id': u'muslim', u'count': 8},\n",
       " {u'_id': u'taoist', u'count': 3},\n",
       " {u'_id': u'unitarian', u'count': 2},\n",
       " {u'_id': u'scientologist', u'count': 2},\n",
       " {u'_id': u'unitarian_universalist', u'count': 2},\n",
       " {u'_id': u'shinto', u'count': 1}]"
      ]
     },
     "execution_count": 153,
     "metadata": {},
     "output_type": "execute_result"
    }
   ],
   "source": [
    "print \"Top 10 religions in the area:\"\n",
    "list(place_of_worship)"
   ]
  },
  {
   "cell_type": "markdown",
   "metadata": {},
   "source": [
    "### Cuisine in the area"
   ]
  },
  {
   "cell_type": "code",
   "execution_count": 154,
   "metadata": {
    "collapsed": false
   },
   "outputs": [],
   "source": [
    "cuisine =  coll.aggregate( [\n",
    "        {\"$group\": {\"_id\": \"$cuisine\", \"count\": {\"$sum\": 1}}},\n",
    "        {\"$sort\": {\"count\": -1}},\n",
    "        {\"$limit\": 10}\n",
    "        ])\n"
   ]
  },
  {
   "cell_type": "code",
   "execution_count": 155,
   "metadata": {
    "collapsed": false
   },
   "outputs": [
    {
     "name": "stdout",
     "output_type": "stream",
     "text": [
      "Top 10 cuisine in San Francisco:\n"
     ]
    },
    {
     "data": {
      "text/plain": [
       "[{u'_id': None, u'count': 4968789},\n",
       " {u'_id': u'mexican', u'count': 244},\n",
       " {u'_id': u'coffee_shop', u'count': 230},\n",
       " {u'_id': u'burger', u'count': 191},\n",
       " {u'_id': u'pizza', u'count': 191},\n",
       " {u'_id': u'chinese', u'count': 156},\n",
       " {u'_id': u'sandwich', u'count': 130},\n",
       " {u'_id': u'japanese', u'count': 122},\n",
       " {u'_id': u'italian', u'count': 120},\n",
       " {u'_id': u'american', u'count': 110}]"
      ]
     },
     "execution_count": 155,
     "metadata": {},
     "output_type": "execute_result"
    }
   ],
   "source": [
    "print \"Top 10 cuisine in San Francisco:\"\n",
    "list(cuisine)"
   ]
  },
  {
   "cell_type": "markdown",
   "metadata": {},
   "source": [
    "### San Francisco is famous for its diverse culture, which is reflected in the popularity of international cuisines. "
   ]
  },
  {
   "cell_type": "markdown",
   "metadata": {},
   "source": [
    "### Explore the most popular cuisine in each postcode area of San Francisco"
   ]
  },
  {
   "cell_type": "code",
   "execution_count": 161,
   "metadata": {
    "collapsed": false
   },
   "outputs": [
    {
     "data": {
      "text/plain": [
       "[{u'_id': u'94122',\n",
       "  u'cuisine_of_area': [{u'count': 13, u'cuisine': u'chinese'},\n",
       "   {u'count': 10, u'cuisine': u'coffee_shop'},\n",
       "   {u'count': 10, u'cuisine': u'japanese'},\n",
       "   {u'count': 8, u'cuisine': u'vietnamese'},\n",
       "   {u'count': 5, u'cuisine': u'thai'},\n",
       "   {u'count': 5, u'cuisine': u'mexican'},\n",
       "   {u'count': 4, u'cuisine': u'asian'},\n",
       "   {u'count': 4, u'cuisine': u'indian'},\n",
       "   {u'count': 3, u'cuisine': u'pizza'},\n",
       "   {u'count': 3, u'cuisine': u'korean'},\n",
       "   {u'count': 3, u'cuisine': u'sandwich'},\n",
       "   {u'count': 3, u'cuisine': u'dim_sum'}],\n",
       "  u'total_count': 12},\n",
       " {u'_id': u'94063',\n",
       "  u'cuisine_of_area': [{u'count': 12, u'cuisine': u'mexican'},\n",
       "   {u'count': 12, u'cuisine': u'sandwich'},\n",
       "   {u'count': 8, u'cuisine': u'burger'},\n",
       "   {u'count': 7, u'cuisine': u'chinese'},\n",
       "   {u'count': 6, u'cuisine': u'japanese'},\n",
       "   {u'count': 6, u'cuisine': u'american'},\n",
       "   {u'count': 4, u'cuisine': u'italian'},\n",
       "   {u'count': 4, u'cuisine': u'thai'},\n",
       "   {u'count': 3, u'cuisine': u'pizza'},\n",
       "   {u'count': 3, u'cuisine': u'coffee_shop'}],\n",
       "  u'total_count': 10},\n",
       " {u'_id': u'94103',\n",
       "  u'cuisine_of_area': [{u'count': 6, u'cuisine': u'burger'},\n",
       "   {u'count': 6, u'cuisine': u'thai'},\n",
       "   {u'count': 6, u'cuisine': u'japanese'},\n",
       "   {u'count': 5, u'cuisine': u'vietnamese'},\n",
       "   {u'count': 4, u'cuisine': u'american'},\n",
       "   {u'count': 4, u'cuisine': u'regional'},\n",
       "   {u'count': 3, u'cuisine': u'pizza'},\n",
       "   {u'count': 3, u'cuisine': u'sandwich'}],\n",
       "  u'total_count': 8},\n",
       " {u'_id': u'94110',\n",
       "  u'cuisine_of_area': [{u'count': 7, u'cuisine': u'coffee_shop'},\n",
       "   {u'count': 5, u'cuisine': u'mexican'},\n",
       "   {u'count': 4, u'cuisine': u'burger'},\n",
       "   {u'count': 3, u'cuisine': u'thai'},\n",
       "   {u'count': 3, u'cuisine': u'chinese'}],\n",
       "  u'total_count': 5},\n",
       " {u'_id': u'94114',\n",
       "  u'cuisine_of_area': [{u'count': 5, u'cuisine': u'american'},\n",
       "   {u'count': 4, u'cuisine': u'coffee_shop'},\n",
       "   {u'count': 3, u'cuisine': u'thai'},\n",
       "   {u'count': 3, u'cuisine': u'pizza'}],\n",
       "  u'total_count': 4}]"
      ]
     },
     "execution_count": 161,
     "metadata": {},
     "output_type": "execute_result"
    }
   ],
   "source": [
    "cuisine_of_area =  coll.aggregate( [\n",
    "        {\"$match\": {\"cuisine\": {\"$exists\":1},\n",
    "                    \"address.postcode\": {\"$exists\": 1}}},\n",
    "        {\"$group\": {\"_id\": { \"postcode\": \"$address.postcode\",\n",
    "                             \"cuisine\": \"$cuisine\"},\n",
    "                    \"cuisine_count\": {\"$sum\": 1}}},\n",
    "        {\"$match\": {\"cuisine_count\": {\"$gt\": 2}}},\n",
    "        \n",
    "        {\"$sort\": {\"cuisine_count\": -1 }},\n",
    "        {\"$group\": {\"_id\": \"$_id.postcode\",\n",
    "                    \"cuisine_of_area\": {\"$push\": {\n",
    "                                                \"cuisine\": \"$_id.cuisine\",\n",
    "                                                \"count\": \"$cuisine_count\"\n",
    "                    }},\n",
    "                    \"total_count\":  {\"$sum\":1}\n",
    "                   }},\n",
    "        \n",
    "        {\"$sort\": {\"total_count\":-1}},\n",
    "        {\"$limit\": 5}\n",
    "        ])\n",
    "\n",
    "list(cuisine_of_area)\n",
    "\n",
    "#Reference: http://stackoverflow.com/questions/22932364/mongodb-group-values-by-multiple-fields\n"
   ]
  },
  {
   "cell_type": "markdown",
   "metadata": {},
   "source": [
    "### Based on the above data, I find that different areas have different popular food. This is probably due to the different population in each district. Ideally, I'd like to check the top 3 popular food in postcode area with a large number of restaurants. However, I cannot figure out an easy way to look at this. "
   ]
  },
  {
   "cell_type": "markdown",
   "metadata": {
    "collapsed": true
   },
   "source": [
    "# 3 Other ideas about the dataset"
   ]
  },
  {
   "cell_type": "markdown",
   "metadata": {},
   "source": [
    "### I noticed that some documents have phone number under \"contact:phone\" field. However, some have \"phone\" as a key in the dictionary, which is the field that has been audited in this report. In order to keep contact information clean and consistent, I propose the following further cleanup:\n",
    "**First, we should look thoroughly to find out all formats of contact information. Second, we can then audit such contact information, including email, phone, website, etc. Third, we create a dictionary for all types of contact information for each entry in the json file. **\n",
    "**Potential problem: There are two kinds of contact information that need to be audited. The first type is in \"contact:phone\" format, which is easy to audit using regular expression to extract the information like what I did in auditing street. The second type does not have \"contact:\". Therefore each type of contact information needs to be found individually. However, there may be other types of contact types not mentioned above. We may have the chance to lose such information.  **"
   ]
  },
  {
   "cell_type": "code",
   "execution_count": 165,
   "metadata": {
    "collapsed": false
   },
   "outputs": [
    {
     "name": "stdout",
     "output_type": "stream",
     "text": [
      "{u'_id': ObjectId('56e4d2b070997f97f1aabd3a'),\n",
      " u'address': {u'housenumber': u'547', u'street': u'Haight Street'},\n",
      " u'amenity': u'pub',\n",
      " u'contact:email': u'info@toronado.com',\n",
      " u'contact:fax': u'415 621 0322',\n",
      " u'contact:myspace': u'toronadosf',\n",
      " u'contact:phone': u'415 863 2276',\n",
      " u'contact:website': u'http://www.toronado.com/',\n",
      " u'created': {u'changeset': u'36033983',\n",
      "              u'timestamp': u'2015-12-18T19:11:20Z',\n",
      "              u'uid': u'251543',\n",
      "              u'user': u'ChrissW-R1',\n",
      "              u'version': u'6'},\n",
      " u'id': u'61671096',\n",
      " u'name': u'Toronado',\n",
      " u'opening_hours': u'11:00-02:00',\n",
      " u'pos': [37.7719291, -122.4311197],\n",
      " u'type': u'node',\n",
      " u'visible': None}\n",
      "{u'_id': ObjectId('56e4d2b570997f97f1acae46'),\n",
      " u'amenity': u'cafe',\n",
      " u'contact:phone': u'+1-510-849-0211',\n",
      " u'contact:website': u'http://musicaloffering.com/cafe/',\n",
      " u'cost:coffee': u'$3.01',\n",
      " u'created': {u'changeset': u'37351932',\n",
      "              u'timestamp': u'2016-02-21T18:21:22Z',\n",
      "              u'uid': u'1835512',\n",
      "              u'user': u'nereocystis',\n",
      "              u'version': u'6'},\n",
      " u'gnis:ST_alpha': u'Bancroft Way',\n",
      " u'gnis:ST_num': u'2430',\n",
      " u'id': u'282600818',\n",
      " u'name': u'The Musical Offering and Cafe',\n",
      " u'pos': [37.8684027, -122.2607102],\n",
      " u'type': u'node',\n",
      " u'visible': None}\n"
     ]
    }
   ],
   "source": [
    "# show example of \"contact:phone\"\n",
    "count=0\n",
    "\n",
    "for i in coll.find():\n",
    "    if count ==2 :\n",
    "        break\n",
    "    else:\n",
    "        if \"contact:phone\" in i:\n",
    "            pprint(i)\n",
    "            count +=1\n"
   ]
  },
  {
   "cell_type": "code",
   "execution_count": null,
   "metadata": {
    "collapsed": true
   },
   "outputs": [],
   "source": []
  },
  {
   "cell_type": "markdown",
   "metadata": {},
   "source": [
    "# Conclusion"
   ]
  },
  {
   "cell_type": "markdown",
   "metadata": {},
   "source": [
    "### Through an initial examination of the dataset, I found three problems with the dataset and created different functions to clean the data. It is obvious that thare are more fields that need to be audited. After importing the json format of the dataset, I did several queries to examine the data in San Francisco. \n",
    "### There are several power useser that contributed to the openstreetmap in more than 100,000 entries. Christian is the doninant religion in the city. However, the food culture is very diverse. Many different types of international foods are popular. This is a unique feature of the diverse culture of San Francisco. Through futher analysis, I show the most popular cuisine in each specific postcode area.\n",
    "### Additional data wrangling can be done to further improve the data quality. For instance, we can audit the contact information more carefully and create a dictionary of contact for each address. Overall, there are many missing entries and inconsistency in the data, which need to be further cleaned.  \n"
   ]
  },
  {
   "cell_type": "code",
   "execution_count": null,
   "metadata": {
    "collapsed": true
   },
   "outputs": [],
   "source": []
  }
 ],
 "metadata": {
  "kernelspec": {
   "display_name": "Python 2",
   "language": "python",
   "name": "python2"
  },
  "language_info": {
   "codemirror_mode": {
    "name": "ipython",
    "version": 2
   },
   "file_extension": ".py",
   "mimetype": "text/x-python",
   "name": "python",
   "nbconvert_exporter": "python",
   "pygments_lexer": "ipython2",
   "version": "2.7.11"
  }
 },
 "nbformat": 4,
 "nbformat_minor": 0
}
